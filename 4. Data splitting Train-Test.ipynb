{
 "cells": [
  {
   "cell_type": "markdown",
   "metadata": {},
   "source": [
    "# Train-Test split"
   ]
  },
  {
   "cell_type": "markdown",
   "metadata": {},
   "source": [
    "Data is split into training and testing sets to ensure that all three models have the same input (format, data and columns)"
   ]
  },
  {
   "cell_type": "code",
   "execution_count": 1,
   "metadata": {},
   "outputs": [],
   "source": [
    "using CSV\n",
    "using Random\n",
    "using Statistics\n",
    "using DataFrames"
   ]
  },
  {
   "cell_type": "code",
   "execution_count": 20,
   "metadata": {},
   "outputs": [],
   "source": [
    "df_2020_oct = CSV.read(\"./data/treated data/2020_october_listings_encoded.csv\");\n",
    "df_2019_oct = CSV.read(\"./data/treated data/2019_october_listings_encoded.csv\");\n"
   ]
  },
  {
   "cell_type": "code",
   "execution_count": 21,
   "metadata": {},
   "outputs": [
    {
     "data": {
      "text/plain": [
       "test_train_split (generic function with 1 method)"
      ]
     },
     "execution_count": 21,
     "metadata": {},
     "output_type": "execute_result"
    }
   ],
   "source": [
    "Random.seed!(3);\n",
    "function test_train_split(df)\n",
    "    df_shuffle = df[shuffle(1:end), :]\n",
    "\n",
    "    # Number of train and test observations is determined\n",
    "    train_proportion = 0.7\n",
    "    n = size(df_shuffle, 1)\n",
    "    ntrain = convert(Int, round(train_proportion*n));\n",
    "    ntest = n - ntrain;\n",
    "    \n",
    "    # All columns but price\n",
    "    features = df_shuffle[filter(x -> x != \"price\", names(df_shuffle))];\n",
    "    \n",
    "    # Only price column\n",
    "    target = df_shuffle[:, :price];\n",
    "\n",
    "    train_x = features[1:ntrain,:];\n",
    "    test_x = features[ntrain+1:end,:];\n",
    "    train_y = DataFrame(price = target[1:ntrain]);\n",
    "    test_y = DataFrame(price = target[ntrain+1:end]);\n",
    "    \n",
    "    return train_x, test_x, train_y, test_y\n",
    "    \n",
    "end"
   ]
  },
  {
   "cell_type": "code",
   "execution_count": 22,
   "metadata": {},
   "outputs": [
    {
     "data": {
      "text/plain": [
       "save_test_train_split_as_csv (generic function with 1 method)"
      ]
     },
     "execution_count": 22,
     "metadata": {},
     "output_type": "execute_result"
    }
   ],
   "source": [
    "function save_test_train_split_as_csv(train_x, test_x, train_y, test_y, date)\n",
    "    CSV.write(string(\"./data/train test data/\",date,\"_train_x.csv\"), train_x)\n",
    "    CSV.write(string(\"./data/train test data/\", date ,\"_test_x.csv\"), test_x)\n",
    "    CSV.write(string(\"./data/train test data/\", date ,\"_train_y.csv\"), train_y)\n",
    "    CSV.write(string(\"./data/train test data/\", date ,\"_test_y.csv\"), test_y)\n",
    "    print(\"All files saved\")\n",
    "end"
   ]
  },
  {
   "cell_type": "code",
   "execution_count": 23,
   "metadata": {},
   "outputs": [],
   "source": [
    "train_x, test_x, train_y, test_y = test_train_split(df_2020_oct);"
   ]
  },
  {
   "cell_type": "code",
   "execution_count": 24,
   "metadata": {},
   "outputs": [
    {
     "name": "stdout",
     "output_type": "stream",
     "text": [
      "All files saved"
     ]
    }
   ],
   "source": [
    "save_test_train_split_as_csv(train_x, test_x, train_y, test_y, \"2020_october\")"
   ]
  },
  {
   "cell_type": "code",
   "execution_count": 25,
   "metadata": {},
   "outputs": [],
   "source": [
    "train_x, test_x, train_y, test_y = test_train_split(df_2019_oct);"
   ]
  },
  {
   "cell_type": "code",
   "execution_count": 26,
   "metadata": {},
   "outputs": [
    {
     "name": "stdout",
     "output_type": "stream",
     "text": [
      "All files saved"
     ]
    }
   ],
   "source": [
    "save_test_train_split_as_csv(train_x, test_x, train_y, test_y, \"2019_october\")"
   ]
  },
  {
   "cell_type": "markdown",
   "metadata": {},
   "source": [
    "**Important!!** "
   ]
  },
  {
   "cell_type": "markdown",
   "metadata": {},
   "source": [
    "When loading the dataset there are several things to do before fitting the model:\n",
    "1. Take care of non-numeric variables (date, room_type, host_name...)\n",
    "2. Eliminate columns that you will not use (for example 1 one-hot encoding of neighbourhood)\n",
    "3. Select time range of interest (from april)\n",
    "4. Transform the resulting dataframe into an array\n",
    "\n",
    "See `5.1 Model Development I` for reference"
   ]
  },
  {
   "cell_type": "code",
   "execution_count": null,
   "metadata": {},
   "outputs": [],
   "source": []
  }
 ],
 "metadata": {
  "kernelspec": {
   "display_name": "Julia 1.5.1",
   "language": "julia",
   "name": "julia-1.5"
  },
  "language_info": {
   "file_extension": ".jl",
   "mimetype": "application/julia",
   "name": "julia",
   "version": "1.5.1"
  }
 },
 "nbformat": 4,
 "nbformat_minor": 4
}
