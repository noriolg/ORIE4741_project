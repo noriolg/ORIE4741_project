{
 "cells": [
  {
   "cell_type": "markdown",
   "metadata": {},
   "source": [
    "# Preliminary model development Airbnb"
   ]
  },
  {
   "cell_type": "markdown",
   "metadata": {},
   "source": [
    "This notebook presents some initial models for the Airbnb dataset. The main question that is to be answered is wheter the COVID-19 pandemic affected prices in a significant way."
   ]
  },
  {
   "cell_type": "markdown",
   "metadata": {},
   "source": [
    "In order to answer this question, different models will be developped using the available datasets. After this has been done, models fitted with one dataset will be used on other dates to see how they fit this new data. Two different comparisons will be conducted:\n",
    "* Within same year, changes (from June to September) will be compared\n",
    "* Year to year changes will also be calculated\n",
    "\n",
    "Finally, an overall model will be developped hoping to produce an accurate prediction tool for future prices."
   ]
  },
  {
   "cell_type": "markdown",
   "metadata": {},
   "source": [
    "Initial hypothesis is that June 2020 prices will be heavily affected but we expect a slight rebound in September. This may be an indicator of longer term impact or patterns."
   ]
  },
  {
   "cell_type": "markdown",
   "metadata": {},
   "source": [
    "**Next steps**\n",
    "\n",
    "After this analysis is computed, a more in depth study should be done regarding the use of different regularizations and ways to compute the final model. For example, the effect of cross validation on training and bootstraping could be possible steps to take."
   ]
  },
  {
   "cell_type": "markdown",
   "metadata": {},
   "source": [
    "### Reading the dataset"
   ]
  },
  {
   "cell_type": "code",
   "execution_count": 149,
   "metadata": {},
   "outputs": [],
   "source": [
    "using Random\n",
    "using CSV\n",
    "using Plots\n",
    "using DataFrames\n",
    "using Statistics\n",
    "using LinearAlgebra\n",
    "using Dates\n",
    "using StatsBase"
   ]
  },
  {
   "cell_type": "markdown",
   "metadata": {},
   "source": [
    "One of the encoded datasets is selected for initial approach. After a course of action has been determined, the steps will be replicated for all datasets."
   ]
  },
  {
   "cell_type": "code",
   "execution_count": 150,
   "metadata": {},
   "outputs": [],
   "source": [
    "df = CSV.read(\"./data/treated data/2020_october_listings_encoded.csv\");"
   ]
  },
  {
   "cell_type": "code",
   "execution_count": 151,
   "metadata": {},
   "outputs": [
    {
     "data": {
      "text/html": [
       "<table class=\"data-frame\"><thead><tr><th></th><th>id</th><th>name</th><th>host_id</th><th>host_name</th></tr><tr><th></th><th>Int64</th><th>String</th><th>Int64</th><th>String</th></tr></thead><tbody><p>6 rows × 249 columns (omitted printing of 245 columns)</p><tr><th>1</th><td>2595</td><td>Skylit Midtown Castle</td><td>2845</td><td>Jennifer</td></tr><tr><th>2</th><td>3831</td><td>Whole flr w/private bdrm, bath &amp; kitchen(pls read)</td><td>4869</td><td>LisaRoxanne</td></tr><tr><th>3</th><td>5121</td><td>BlissArtsSpace!</td><td>7356</td><td>Garon</td></tr><tr><th>4</th><td>5136</td><td>Spacious Brooklyn Duplex, Patio + Garden</td><td>7378</td><td>Rebecca</td></tr><tr><th>5</th><td>5178</td><td>Large Furnished Room Near B'way　</td><td>8967</td><td>Shunichi</td></tr><tr><th>6</th><td>5203</td><td>Cozy Clean Guest Room - Family Apt</td><td>7490</td><td>MaryEllen</td></tr></tbody></table>"
      ],
      "text/latex": [
       "\\begin{tabular}{r|ccccc}\n",
       "\t& id & name & host\\_id & host\\_name & \\\\\n",
       "\t\\hline\n",
       "\t& Int64 & String & Int64 & String & \\\\\n",
       "\t\\hline\n",
       "\t1 & 2595 & Skylit Midtown Castle & 2845 & Jennifer & $\\dots$ \\\\\n",
       "\t2 & 3831 & Whole flr w/private bdrm, bath \\& kitchen(pls read) & 4869 & LisaRoxanne & $\\dots$ \\\\\n",
       "\t3 & 5121 & BlissArtsSpace! & 7356 & Garon & $\\dots$ \\\\\n",
       "\t4 & 5136 & Spacious Brooklyn Duplex, Patio + Garden & 7378 & Rebecca & $\\dots$ \\\\\n",
       "\t5 & 5178 & Large Furnished Room Near B'way　 & 8967 & Shunichi & $\\dots$ \\\\\n",
       "\t6 & 5203 & Cozy Clean Guest Room - Family Apt & 7490 & MaryEllen & $\\dots$ \\\\\n",
       "\\end{tabular}\n"
      ],
      "text/plain": [
       "6×249 DataFrame. Omitted printing of 246 columns\n",
       "│ Row │ id    │ name                                               │ host_id │\n",
       "│     │ \u001b[90mInt64\u001b[39m │ \u001b[90mString\u001b[39m                                             │ \u001b[90mInt64\u001b[39m   │\n",
       "├─────┼───────┼────────────────────────────────────────────────────┼─────────┤\n",
       "│ 1   │ 2595  │ Skylit Midtown Castle                              │ 2845    │\n",
       "│ 2   │ 3831  │ Whole flr w/private bdrm, bath & kitchen(pls read) │ 4869    │\n",
       "│ 3   │ 5121  │ BlissArtsSpace!                                    │ 7356    │\n",
       "│ 4   │ 5136  │ Spacious Brooklyn Duplex, Patio + Garden           │ 7378    │\n",
       "│ 5   │ 5178  │ Large Furnished Room Near B'way　                  │ 8967    │\n",
       "│ 6   │ 5203  │ Cozy Clean Guest Room - Family Apt                 │ 7490    │"
      ]
     },
     "execution_count": 151,
     "metadata": {},
     "output_type": "execute_result"
    }
   ],
   "source": [
    "head(df)"
   ]
  },
  {
   "cell_type": "markdown",
   "metadata": {},
   "source": [
    "### Eliminating neighbourhood one-hot encoding columns"
   ]
  },
  {
   "cell_type": "markdown",
   "metadata": {},
   "source": [
    "There are 249 columns due to the one hot encoding that was done of the `neighbourhood` feature which had 223 different values. For a first approach, these columns will not be taken into account. A proposed method for further analysis is substituting these columns by information regarding the neighbourhoods such as mean income, pop density and other relevant information."
   ]
  },
  {
   "cell_type": "code",
   "execution_count": 152,
   "metadata": {},
   "outputs": [
    {
     "name": "stdout",
     "output_type": "stream",
     "text": [
      "[\"id\", \"name\", \"host_id\", \"host_name\", \"neighbourhood_group\", \"neighbourhood\", \"latitude\", \"longitude\", \"room_type\", \"price\", \"minimum_nights\", \"number_of_reviews\", \"last_review\", \"reviews_per_month\", \"calculated_host_listings_count\", \"availability_365\", \"period_code\", \"Manhattan\", \"Brooklyn\", \"Queens\", \"Staten Island\", \"Bronx\", \"Midtown\", \"Clinton Hill\", \"Bedford-Stuyvesant\", \"Sunset Park\", \"Hell's Kitchen\", \"Upper West Side\", \"West Village\", \"South Slope\", \"Williamsburg\", \"East Harlem\", \"Fort Greene\", \"Inwood\", \"East Village\", \"Harlem\", \"Flatbush\", \"Prospect-Lefferts Gardens\", \"Long Island City\", \"Jamaica\", \"Chelsea\", \"Greenpoint\", \"Kips Bay\", \"Lower East Side\", \"Nolita\", \"Upper East Side\", \"Prospect Heights\", \"Park Slope\", \"Washington Heights\", \"Woodside\", \"Brooklyn Heights\", \"Bushwick\", \"Carroll Gardens\", \"Gowanus\", \"Flatlands\", \"SoHo\", \"Cobble Hill\", \"Flushing\", \"Boerum Hill\", \"Sunnyside\", \"St. George\", \"Tribeca\", \"Highbridge\", \"Ridgewood\", \"Port Morris\", \"Morningside Heights\", \"Middle Village\", \"NoHo\", \"Ditmars Steinway\", \"Flatiron District\", \"Windsor Terrace\", \"Theater District\", \"Roosevelt Island\", \"Chinatown\", \"Greenwich Village\", \"Little Italy\", \"Tompkinsville\", \"Astoria\", \"Clason Point\", \"Eastchester\", \"Crown Heights\", \"Kingsbridge\", \"Queens Village\", \"Rockaway Beach\", \"Forest Hills\", \"Murray Hill\", \"East Flatbush\", \"Woodlawn\", \"University Heights\", \"Gravesend\", \"Allerton\", \"East New York\", \"Sheepshead Bay\", \"Emerson Hill\", \"Fort Hamilton\", \"Bensonhurst\", \"Shore Acres\", \"Corona\", \"Gramercy\", \"Elmhurst\", \"Brighton Beach\", \"Cypress Hills\", \"St. Albans\", \"Arrochar\", \"Financial District\", \"Rego Park\", \"Kensington\", \"Clifton\", \"Bay Ridge\", \"Maspeth\", \"Graniteville\", \"Spuyten Duyvil\", \"Stapleton\", \"Briarwood\", \"Columbia St\", \"Morris Heights\", \"Mott Haven\", \"Jackson Heights\", \"Longwood\", \"Battery Park City\", \"Two Bridges\", \"Bayside\", \"East Elmhurst\", \"New Springville\", \"Red Hook\", \"Arverne\", \"Tottenville\", \"Mariners Harbor\", \"Concord\", \"Borough Park\", \"Downtown Brooklyn\", \"Melrose\", \"Kew Gardens\", \"College Point\", \"Civic Center\", \"Vinegar Hill\", \"DUMBO\", \"City Island\", \"Concourse\", \"Richmond Hill\", \"Canarsie\", \"Glendale\", \"Brownsville\", \"Williamsbridge\", \"Soundview\", \"Woodhaven\", \"Woodrow\", \"Co-op City\", \"Stuyvesant Town\", \"Parkchester\", \"Bronxdale\", \"Sea Gate\", \"Riverdale\", \"Ozone Park\", \"Bay Terrace\", \"Norwood\", \"Claremont Village\", \"Whitestone\", \"Fordham\", \"Concourse Village\", \"Fieldston\", \"Eltingville\", \"Mount Hope\", \"Wakefield\", \"Midwood\", \"Navy Yard\", \"Lighthouse Hill\", \"South Ozone Park\", \"Kew Gardens Hills\", \"Jamaica Estates\", \"Dyker Heights\", \"Bellerose\", \"Fresh Meadows\", \"Morris Park\", \"West Brighton\", \"Far Rockaway\", \"Tremont\", \"Springfield Gardens\", \"Manhattan Beach\", \"Marble Hill\", \"Dongan Hills\", \"Castleton Corners\", \"Hunts Point\", \"Neponsit\", \"Throgs Neck\", \"Todt Hill\", \"West Farms\", \"Great Kills\", \"Pelham Bay\", \"Silver Lake\", \"Randall Manor\", \"Morrisania\", \"Laurelton\", \"Grymes Hill\", \"Holliswood\", \"Pelham Gardens\", \"Belmont\", \"Edgemere\", \"New Brighton\", \"Midland Beach\", \"Baychester\", \"Belle Harbor\", \"Rosedale\", \"Bergen Beach\", \"Cambria Heights\", \"Richmondtown\", \"Howard Beach\", \"Howland Hook\", \"New Dorp Beach\", \"Coney Island\", \"Van Nest\", \"Prince's Bay\", \"South Beach\", \"Bath Beach\", \"North Riverdale\", \"Jamaica Hills\", \"Oakwood\", \"Hollis\", \"Schuylerville\", \"Huguenot\", \"Olinville\", \"Edenwald\", \"Port Richmond\", \"Mount Eden\", \"Westerleigh\", \"East Morrisania\", \"Unionport\", \"Fort Wadsworth\", \"Westchester Square\", \"Bayswater\", \"Mill Basin\", \"Arden Heights\", \"Bull's Head\", \"Douglaston\", \"Grant City\", \"New Dorp\", \"Breezy Point\", \"Castle Hill\", \"Willowbrook\", \"Gerritsen Beach\", \"Little Neck\", \"Rosebank\", \"Rossville\", \"Bay Terrace, Staten Island\", \"Country Club\", \"Entire home/apt\", \"Private room\", \"Shared room\", \"Hotel room\"]"
     ]
    },
    {
     "ename": "LoadError",
     "evalue": "UndefVarError: will not defined",
     "output_type": "error",
     "traceback": [
      "UndefVarError: will not defined",
      "",
      "Stacktrace:",
      " [1] top-level scope at In[152]:2",
      " [2] include_string(::Function, ::Module, ::String, ::String) at .\\loading.jl:1091"
     ]
    }
   ],
   "source": [
    "feature_names = names(df);\n",
    "print(feature_names)will "
   ]
  },
  {
   "cell_type": "code",
   "execution_count": 153,
   "metadata": {},
   "outputs": [
    {
     "name": "stdout",
     "output_type": "stream",
     "text": [
      "[\"Manhattan\", \"Brooklyn\", \"Queens\", \"Staten Island\", \"Bronx\"]"
     ]
    }
   ],
   "source": [
    "neighbourhood_group_names = names(df)[18:22];\n",
    "print(neighbourhood_group_names)"
   ]
  },
  {
   "cell_type": "code",
   "execution_count": 154,
   "metadata": {},
   "outputs": [
    {
     "name": "stdout",
     "output_type": "stream",
     "text": [
      "[\"Country Club\", \"Entire home/apt\", \"Private room\", \"Shared room\", \"Hotel room\"]"
     ]
    }
   ],
   "source": [
    "room_type_names = names(df)[end-4:end];\n",
    "print(room_type_names)"
   ]
  },
  {
   "cell_type": "markdown",
   "metadata": {},
   "source": [
    "Columns 1-18 are the original variables, 18-22 are the one hot encoding of `neighbourhood_group` and the last 5 columns are the one hot encoding of `room_type`"
   ]
  },
  {
   "cell_type": "code",
   "execution_count": 155,
   "metadata": {},
   "outputs": [
    {
     "data": {
      "text/plain": [
       "(44634, 27)"
      ]
     },
     "execution_count": 155,
     "metadata": {},
     "output_type": "execute_result"
    }
   ],
   "source": [
    "df_cut = hcat(df[:, 1:22], df[:, end-4:end]);\n",
    "size(df_cut)"
   ]
  },
  {
   "cell_type": "code",
   "execution_count": 156,
   "metadata": {},
   "outputs": [
    {
     "name": "stdout",
     "output_type": "stream",
     "text": [
      "[\"id\", \"name\", \"host_id\", \"host_name\", \"neighbourhood_group\", \"neighbourhood\", \"latitude\", \"longitude\", \"room_type\", \"price\", \"minimum_nights\", \"number_of_reviews\", \"last_review\", \"reviews_per_month\", \"calculated_host_listings_count\", \"availability_365\", \"period_code\", \"Manhattan\", \"Brooklyn\", \"Queens\", \"Staten Island\", \"Bronx\", \"Country Club\", \"Entire home/apt\", \"Private room\", \"Shared room\", \"Hotel room\"]"
     ]
    }
   ],
   "source": [
    "cut_feature_names = names(df_cut);\n",
    "print(cut_feature_names)"
   ]
  },
  {
   "cell_type": "markdown",
   "metadata": {},
   "source": [
    "### Eliminating unnecessary variables for model"
   ]
  },
  {
   "cell_type": "markdown",
   "metadata": {},
   "source": [
    "Not all variables will be used for the model. For example `id` and `name` are not needed. `host_id` probably would be very explanatory, however the number by itself does not mean anything as it is truly a categorical variable. This means that it shall be taken out as well. "
   ]
  },
  {
   "cell_type": "markdown",
   "metadata": {},
   "source": [
    "Furthermore, there is no need for `neighbourhood_group`, `neighbourhood` or `room_type` as their information is already present in other columns (or previously eliminated as is the case of `neighbourhood`)"
   ]
  },
  {
   "cell_type": "markdown",
   "metadata": {},
   "source": [
    "A proposed course of action in case the model needs a boos in accuracy is scraping expressions in the listing name. For example, maybe including the word \"Private\" or \"New\" increases price."
   ]
  },
  {
   "cell_type": "code",
   "execution_count": 157,
   "metadata": {},
   "outputs": [
    {
     "name": "stdout",
     "output_type": "stream",
     "text": [
      "[\"latitude\", \"longitude\", \"price\", \"minimum_nights\", \"number_of_reviews\", \"last_review\", \"reviews_per_month\", \"calculated_host_listings_count\", \"availability_365\", \"period_code\", \"Manhattan\", \"Brooklyn\", \"Queens\", \"Staten Island\", \"Bronx\", \"Country Club\", \"Entire home/apt\", \"Private room\", \"Shared room\", \"Hotel room\"]"
     ]
    }
   ],
   "source": [
    "df_filtered = df_cut[:,setdiff(names(df_cut), [\"id\", \"name\", \"host_id\", \"host_name\", \"neighbourhood_group\", \"neighbourhood\", \"room_type\"])];\n",
    "filtered_feature_names = names(df_filtered);\n",
    "print(filtered_feature_names)"
   ]
  },
  {
   "cell_type": "code",
   "execution_count": 158,
   "metadata": {},
   "outputs": [
    {
     "name": "stdout",
     "output_type": "stream",
     "text": [
      "1\tlatitude\t\t\tFloat64\n",
      "2\tlongitude\t\t\tFloat64\n",
      "3\tprice\t\t\tInt64\n",
      "4\tminimum_nights\t\t\tInt64\n",
      "5\tnumber_of_reviews\t\t\tInt64\n",
      "6\tlast_review\t\t\tDate\n",
      "7\treviews_per_month\t\t\tFloat64\n",
      "8\tcalculated_host_listings_count\t\t\tInt64\n",
      "9\tavailability_365\t\t\tInt64\n",
      "10\tperiod_code\t\t\tInt64\n",
      "11\tManhattan\t\t\tFloat64\n",
      "12\tBrooklyn\t\t\tFloat64\n",
      "13\tQueens\t\t\tFloat64\n",
      "14\tStaten Island\t\t\tFloat64\n",
      "15\tBronx\t\t\tFloat64\n",
      "16\tCountry Club\t\t\tFloat64\n",
      "17\tEntire home/apt\t\t\tFloat64\n",
      "18\tPrivate room\t\t\tFloat64\n",
      "19\tShared room\t\t\tFloat64\n",
      "20\tHotel room\t\t\tFloat64\n"
     ]
    }
   ],
   "source": [
    "for i in 1:length(filtered_feature_names)\n",
    "    println(string(i), \"\\t\", string(filtered_feature_names[i]), \"\\t\\t\\t\", string(eltype(df_filtered[!, i])))\n",
    "end"
   ]
  },
  {
   "cell_type": "markdown",
   "metadata": {},
   "source": [
    "### Encoding Date in a way that is useful for the model"
   ]
  },
  {
   "cell_type": "markdown",
   "metadata": {},
   "source": [
    "The date will be encoded in an ordinal way. The categories will be:\n",
    "* 1: last review was done within the last month\n",
    "* 2: last review was done within in the last three months\n",
    "* 3: last review was done within the last year\n",
    "* 4: last review was done earler\n",
    "* 5: there are no reviews yet (date is 1900-01-01)"
   ]
  },
  {
   "cell_type": "markdown",
   "metadata": {},
   "source": [
    "The encoded dates will be stored in `last_review_dates_code`"
   ]
  },
  {
   "cell_type": "code",
   "execution_count": 160,
   "metadata": {},
   "outputs": [
    {
     "data": {
      "text/plain": [
       "true"
      ]
     },
     "execution_count": 160,
     "metadata": {},
     "output_type": "execute_result"
    }
   ],
   "source": [
    "last_review_dates = df_filtered[:, :last_review];\n",
    "last_review_dates_code = zeros(length(last_review_dates));\n",
    "size(last_review_dates) == size(last_review_dates_code)"
   ]
  },
  {
   "cell_type": "markdown",
   "metadata": {},
   "source": [
    "Some tests regarding operations with Date objects"
   ]
  },
  {
   "cell_type": "code",
   "execution_count": 161,
   "metadata": {},
   "outputs": [
    {
     "name": "stdout",
     "output_type": "stream",
     "text": [
      "1900-01-01\n",
      "true\n",
      "2020-09-07\n",
      "true"
     ]
    }
   ],
   "source": [
    "print(last_review_dates[16])\n",
    "print(\"\\n\")\n",
    "print(last_review_dates[16] == Date(\"1900-01-01\"))\n",
    "print(\"\\n\")\n",
    "print(last_review_dates[15])\n",
    "print(\"\\n\")\n",
    "print(last_review_dates[15] > Date(\"1900-01-01\"))"
   ]
  },
  {
   "cell_type": "code",
   "execution_count": 162,
   "metadata": {},
   "outputs": [
    {
     "name": "stdout",
     "output_type": "stream",
     "text": [
      "5\n",
      "1900\n",
      "2020"
     ]
    }
   ],
   "source": [
    "print(Dates.month(Date(\"1900-05-01\")))\n",
    "print(\"\\n\")\n",
    "print(Dates.year(Date(\"1900-05-01\")))\n",
    "print(\"\\n\")\n",
    "print(Dates.year(last_review_dates[15]))"
   ]
  },
  {
   "cell_type": "markdown",
   "metadata": {},
   "source": [
    "The thresholds are defined. The recent thresholds are computed relative to the date of the last review"
   ]
  },
  {
   "cell_type": "code",
   "execution_count": 163,
   "metadata": {},
   "outputs": [
    {
     "data": {
      "text/plain": [
       "2020-10-11"
      ]
     },
     "execution_count": 163,
     "metadata": {},
     "output_type": "execute_result"
    }
   ],
   "source": [
    "last_review_date = maximum(df_filtered[:, :last_review])"
   ]
  },
  {
   "cell_type": "code",
   "execution_count": 164,
   "metadata": {},
   "outputs": [],
   "source": [
    "# Within the last month\n",
    "threshold_1 = Date(Dates.year(last_review_date), Dates.month(last_review_date)-1, Dates.day(last_review_date));\n",
    "\n",
    "# Three months earlier\n",
    "threshold_2 = Date(Dates.year(last_review_date), Dates.month(last_review_date)-3, Dates.day(last_review_date));\n",
    "\n",
    "# One year earlier\n",
    "threshold_3 = Date(Dates.year(last_review_date) - 1, Dates.month(last_review_date), Dates.day(last_review_date));\n",
    "\n",
    "# No review has been introduced\n",
    "threshold_5 = Date(\"1900-01-01\");\n",
    "\n",
    "# This will be the \"else\" clause in the if statement\n",
    "# threshold_4 = otherwise."
   ]
  },
  {
   "cell_type": "markdown",
   "metadata": {},
   "source": [
    "`last_review_dates_code` is filled out with a loop by comparing dates to established thresholds"
   ]
  },
  {
   "cell_type": "code",
   "execution_count": 165,
   "metadata": {},
   "outputs": [],
   "source": [
    "\n",
    "for i in 1:length(last_review_dates)\n",
    "    \n",
    "    if last_review_dates[i] >= threshold_1\n",
    "        last_review_dates_code[i] = 1\n",
    "    \n",
    "    elseif last_review_dates[i] >= threshold_2\n",
    "        last_review_dates_code[i] = 2\n",
    "\n",
    "    elseif last_review_dates[i] >= threshold_3\n",
    "        last_review_dates_code[i] = 3\n",
    "    \n",
    "    elseif last_review_dates[i] == threshold_5\n",
    "        last_review_dates_code[i] = 5\n",
    "        \n",
    "    else\n",
    "        last_review_dates_code[i] = 4\n",
    "    \n",
    "    end\n",
    "        \n",
    "end"
   ]
  },
  {
   "cell_type": "code",
   "execution_count": 166,
   "metadata": {},
   "outputs": [
    {
     "data": {
      "text/plain": [
       "5-element Array{Float64,1}:\n",
       " 3.0\n",
       " 1.0\n",
       " 4.0\n",
       " 2.0\n",
       " 5.0"
      ]
     },
     "execution_count": 166,
     "metadata": {},
     "output_type": "execute_result"
    }
   ],
   "source": [
    "unique(last_review_dates_code)"
   ]
  },
  {
   "cell_type": "code",
   "execution_count": 167,
   "metadata": {},
   "outputs": [
    {
     "data": {
      "text/plain": [
       "Dict{Float64,Int64} with 5 entries:\n",
       "  4.0 => 14318\n",
       "  2.0 => 3493\n",
       "  3.0 => 12513\n",
       "  5.0 => 10506\n",
       "  1.0 => 3804"
      ]
     },
     "execution_count": 167,
     "metadata": {},
     "output_type": "execute_result"
    }
   ],
   "source": [
    "countmap(last_review_dates_code)"
   ]
  },
  {
   "cell_type": "markdown",
   "metadata": {},
   "source": [
    "The new date column is substituted for the previous data"
   ]
  },
  {
   "cell_type": "code",
   "execution_count": 168,
   "metadata": {},
   "outputs": [],
   "source": [
    "df_final = df_filtered[:,setdiff(names(df_filtered), [\"last_review\"])];"
   ]
  },
  {
   "cell_type": "code",
   "execution_count": 170,
   "metadata": {},
   "outputs": [
    {
     "data": {
      "text/html": [
       "<table class=\"data-frame\"><thead><tr><th></th><th>latitude</th><th>longitude</th><th>price</th><th>minimum_nights</th><th>number_of_reviews</th><th>reviews_per_month</th></tr><tr><th></th><th>Float64</th><th>Float64</th><th>Int64</th><th>Int64</th><th>Int64</th><th>Float64</th></tr></thead><tbody><p>6 rows × 19 columns (omitted printing of 13 columns)</p><tr><th>1</th><td>40.7536</td><td>-73.9838</td><td>175</td><td>3</td><td>48</td><td>0.36</td></tr><tr><th>2</th><td>40.6851</td><td>-73.9598</td><td>76</td><td>1</td><td>354</td><td>4.82</td></tr><tr><th>3</th><td>40.6869</td><td>-73.956</td><td>60</td><td>29</td><td>50</td><td>0.36</td></tr><tr><th>4</th><td>40.6612</td><td>-73.9942</td><td>175</td><td>7</td><td>1</td><td>0.01</td></tr><tr><th>5</th><td>40.7649</td><td>-73.9849</td><td>73</td><td>2</td><td>473</td><td>3.4</td></tr><tr><th>6</th><td>40.8018</td><td>-73.9672</td><td>75</td><td>2</td><td>118</td><td>0.87</td></tr></tbody></table>"
      ],
      "text/latex": [
       "\\begin{tabular}{r|ccccccc}\n",
       "\t& latitude & longitude & price & minimum\\_nights & number\\_of\\_reviews & reviews\\_per\\_month & \\\\\n",
       "\t\\hline\n",
       "\t& Float64 & Float64 & Int64 & Int64 & Int64 & Float64 & \\\\\n",
       "\t\\hline\n",
       "\t1 & 40.7536 & -73.9838 & 175 & 3 & 48 & 0.36 & $\\dots$ \\\\\n",
       "\t2 & 40.6851 & -73.9598 & 76 & 1 & 354 & 4.82 & $\\dots$ \\\\\n",
       "\t3 & 40.6869 & -73.956 & 60 & 29 & 50 & 0.36 & $\\dots$ \\\\\n",
       "\t4 & 40.6612 & -73.9942 & 175 & 7 & 1 & 0.01 & $\\dots$ \\\\\n",
       "\t5 & 40.7649 & -73.9849 & 73 & 2 & 473 & 3.4 & $\\dots$ \\\\\n",
       "\t6 & 40.8018 & -73.9672 & 75 & 2 & 118 & 0.87 & $\\dots$ \\\\\n",
       "\\end{tabular}\n"
      ],
      "text/plain": [
       "6×19 DataFrame. Omitted printing of 14 columns\n",
       "│ Row │ latitude │ longitude │ price │ minimum_nights │ number_of_reviews │\n",
       "│     │ \u001b[90mFloat64\u001b[39m  │ \u001b[90mFloat64\u001b[39m   │ \u001b[90mInt64\u001b[39m │ \u001b[90mInt64\u001b[39m          │ \u001b[90mInt64\u001b[39m             │\n",
       "├─────┼──────────┼───────────┼───────┼────────────────┼───────────────────┤\n",
       "│ 1   │ 40.7536  │ -73.9838  │ 175   │ 3              │ 48                │\n",
       "│ 2   │ 40.6851  │ -73.9598  │ 76    │ 1              │ 354               │\n",
       "│ 3   │ 40.6869  │ -73.956   │ 60    │ 29             │ 50                │\n",
       "│ 4   │ 40.6612  │ -73.9942  │ 175   │ 7              │ 1                 │\n",
       "│ 5   │ 40.7649  │ -73.9849  │ 73    │ 2              │ 473               │\n",
       "│ 6   │ 40.8018  │ -73.9672  │ 75    │ 2              │ 118               │"
      ]
     },
     "execution_count": 170,
     "metadata": {},
     "output_type": "execute_result"
    }
   ],
   "source": [
    "head(df_final)"
   ]
  },
  {
   "cell_type": "code",
   "execution_count": 172,
   "metadata": {},
   "outputs": [],
   "source": [
    "df_final[:, :last_review] = last_review_dates_code;"
   ]
  },
  {
   "cell_type": "code",
   "execution_count": 173,
   "metadata": {},
   "outputs": [
    {
     "data": {
      "text/html": [
       "<table class=\"data-frame\"><thead><tr><th></th><th>latitude</th><th>longitude</th><th>price</th><th>minimum_nights</th><th>number_of_reviews</th><th>reviews_per_month</th></tr><tr><th></th><th>Float64</th><th>Float64</th><th>Int64</th><th>Int64</th><th>Int64</th><th>Float64</th></tr></thead><tbody><p>6 rows × 20 columns (omitted printing of 14 columns)</p><tr><th>1</th><td>40.7536</td><td>-73.9838</td><td>175</td><td>3</td><td>48</td><td>0.36</td></tr><tr><th>2</th><td>40.6851</td><td>-73.9598</td><td>76</td><td>1</td><td>354</td><td>4.82</td></tr><tr><th>3</th><td>40.6869</td><td>-73.956</td><td>60</td><td>29</td><td>50</td><td>0.36</td></tr><tr><th>4</th><td>40.6612</td><td>-73.9942</td><td>175</td><td>7</td><td>1</td><td>0.01</td></tr><tr><th>5</th><td>40.7649</td><td>-73.9849</td><td>73</td><td>2</td><td>473</td><td>3.4</td></tr><tr><th>6</th><td>40.8018</td><td>-73.9672</td><td>75</td><td>2</td><td>118</td><td>0.87</td></tr></tbody></table>"
      ],
      "text/latex": [
       "\\begin{tabular}{r|ccccccc}\n",
       "\t& latitude & longitude & price & minimum\\_nights & number\\_of\\_reviews & reviews\\_per\\_month & \\\\\n",
       "\t\\hline\n",
       "\t& Float64 & Float64 & Int64 & Int64 & Int64 & Float64 & \\\\\n",
       "\t\\hline\n",
       "\t1 & 40.7536 & -73.9838 & 175 & 3 & 48 & 0.36 & $\\dots$ \\\\\n",
       "\t2 & 40.6851 & -73.9598 & 76 & 1 & 354 & 4.82 & $\\dots$ \\\\\n",
       "\t3 & 40.6869 & -73.956 & 60 & 29 & 50 & 0.36 & $\\dots$ \\\\\n",
       "\t4 & 40.6612 & -73.9942 & 175 & 7 & 1 & 0.01 & $\\dots$ \\\\\n",
       "\t5 & 40.7649 & -73.9849 & 73 & 2 & 473 & 3.4 & $\\dots$ \\\\\n",
       "\t6 & 40.8018 & -73.9672 & 75 & 2 & 118 & 0.87 & $\\dots$ \\\\\n",
       "\\end{tabular}\n"
      ],
      "text/plain": [
       "6×20 DataFrame. Omitted printing of 15 columns\n",
       "│ Row │ latitude │ longitude │ price │ minimum_nights │ number_of_reviews │\n",
       "│     │ \u001b[90mFloat64\u001b[39m  │ \u001b[90mFloat64\u001b[39m   │ \u001b[90mInt64\u001b[39m │ \u001b[90mInt64\u001b[39m          │ \u001b[90mInt64\u001b[39m             │\n",
       "├─────┼──────────┼───────────┼───────┼────────────────┼───────────────────┤\n",
       "│ 1   │ 40.7536  │ -73.9838  │ 175   │ 3              │ 48                │\n",
       "│ 2   │ 40.6851  │ -73.9598  │ 76    │ 1              │ 354               │\n",
       "│ 3   │ 40.6869  │ -73.956   │ 60    │ 29             │ 50                │\n",
       "│ 4   │ 40.6612  │ -73.9942  │ 175   │ 7              │ 1                 │\n",
       "│ 5   │ 40.7649  │ -73.9849  │ 73    │ 2              │ 473               │\n",
       "│ 6   │ 40.8018  │ -73.9672  │ 75    │ 2              │ 118               │"
      ]
     },
     "execution_count": 173,
     "metadata": {},
     "output_type": "execute_result"
    }
   ],
   "source": [
    "head(df_final)"
   ]
  },
  {
   "cell_type": "markdown",
   "metadata": {},
   "source": [
    "### Separation of training and testing set"
   ]
  },
  {
   "cell_type": "markdown",
   "metadata": {},
   "source": []
  },
  {
   "cell_type": "code",
   "execution_count": null,
   "metadata": {},
   "outputs": [],
   "source": []
  },
  {
   "cell_type": "markdown",
   "metadata": {},
   "source": [
    "### First model is built"
   ]
  },
  {
   "cell_type": "code",
   "execution_count": null,
   "metadata": {},
   "outputs": [],
   "source": []
  }
 ],
 "metadata": {
  "kernelspec": {
   "display_name": "Julia 1.5.1",
   "language": "julia",
   "name": "julia-1.5"
  },
  "language_info": {
   "file_extension": ".jl",
   "mimetype": "application/julia",
   "name": "julia",
   "version": "1.5.1"
  }
 },
 "nbformat": 4,
 "nbformat_minor": 4
}
