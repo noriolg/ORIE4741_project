{
 "cells": [
  {
   "cell_type": "markdown",
   "metadata": {},
   "source": [
    "# Data mining and cleaning Airbnb"
   ]
  },
  {
   "cell_type": "code",
   "execution_count": 145,
   "metadata": {},
   "outputs": [],
   "source": [
    "using CSV\n",
    "using Plots\n",
    "using DataFrames\n",
    "using Dates"
   ]
  },
  {
   "cell_type": "markdown",
   "metadata": {},
   "source": [
    "There are 4 starting files:\n",
    "* 2019_july_listings.csv\n",
    "* 2019_october_listings.csv\n",
    "* 2020_july_listings.csv\n",
    "* 2020_octuber_listings.csv\n",
    "\n",
    "Which have been altered and tidied in excel from the original files from [here](http://insideairbnb.com/get-the-data.html)\n",
    "\n",
    "Inidividual analysis will be done to each one in case there are particular problems in any one of them. The result of this analysis is to produce 4 clean datasets that have the necessary information to work on the problem"
   ]
  },
  {
   "cell_type": "markdown",
   "metadata": {},
   "source": [
    "### October 2020"
   ]
  },
  {
   "cell_type": "code",
   "execution_count": 146,
   "metadata": {},
   "outputs": [],
   "source": [
    "df = CSV.read(\"2020_october_listings.csv\");"
   ]
  },
  {
   "cell_type": "markdown",
   "metadata": {},
   "source": [
    "Take a look at variables and see if they have missing values"
   ]
  },
  {
   "cell_type": "code",
   "execution_count": 147,
   "metadata": {},
   "outputs": [],
   "source": [
    "feature_names = names(df);"
   ]
  },
  {
   "cell_type": "code",
   "execution_count": 148,
   "metadata": {},
   "outputs": [
    {
     "name": "stdout",
     "output_type": "stream",
     "text": [
      "1\tid\t\t\tInt64\n",
      "2\tname\t\t\tUnion{Missing, String}\n",
      "3\thost_id\t\t\tInt64\n",
      "4\thost_name\t\t\tUnion{Missing, String}\n",
      "5\tneighbourhood_group\t\t\tString\n",
      "6\tneighbourhood\t\t\tString\n",
      "7\tlatitude\t\t\tFloat64\n",
      "8\tlongitude\t\t\tFloat64\n",
      "9\troom_type\t\t\tString\n",
      "10\tprice\t\t\tInt64\n",
      "11\tminimum_nights\t\t\tInt64\n",
      "12\tnumber_of_reviews\t\t\tInt64\n",
      "13\tlast_review\t\t\tUnion{Missing, Date}\n",
      "14\treviews_per_month\t\t\tUnion{Missing, Float64}\n",
      "15\tcalculated_host_listings_count\t\t\tInt64\n",
      "16\tavailability_365\t\t\tInt64\n"
     ]
    }
   ],
   "source": [
    "for i in 1:length(feature_names)\n",
    "    println(string(i), \"\\t\", string(feature_names[i]), \"\\t\\t\\t\", string(eltype(df[!, i])))\n",
    "end"
   ]
  },
  {
   "cell_type": "markdown",
   "metadata": {},
   "source": [
    "There are missing values in some categories. We will see how much they affect and how many they are."
   ]
  },
  {
   "cell_type": "markdown",
   "metadata": {},
   "source": [
    "Number of rows in full dataset"
   ]
  },
  {
   "cell_type": "code",
   "execution_count": 149,
   "metadata": {},
   "outputs": [
    {
     "data": {
      "text/plain": [
       "44666"
      ]
     },
     "execution_count": 149,
     "metadata": {},
     "output_type": "execute_result"
    }
   ],
   "source": [
    "n_rows_full = size(df,1)"
   ]
  },
  {
   "cell_type": "code",
   "execution_count": 150,
   "metadata": {},
   "outputs": [
    {
     "data": {
      "text/plain": [
       "percentage (generic function with 1 method)"
      ]
     },
     "execution_count": 150,
     "metadata": {},
     "output_type": "execute_result"
    }
   ],
   "source": [
    "function percentage(fraction, total)\n",
    "    return fraction/total\n",
    "end"
   ]
  },
  {
   "cell_type": "markdown",
   "metadata": {},
   "source": [
    "Will see for each of the columns the percentage of missing values that there are in them. The goal of this is to see of it makes sense to substitute missing values for any dummy variable or if we can eliminate the rows."
   ]
  },
  {
   "cell_type": "code",
   "execution_count": 151,
   "metadata": {},
   "outputs": [
    {
     "name": "stdout",
     "output_type": "stream",
     "text": [
      "\n",
      "\n",
      "id --> 0.0% missing values\n",
      "\n",
      "name --> 0.034% missing values\n",
      "\n",
      "host_id --> 0.0% missing values\n",
      "\n",
      "host_name --> 0.038% missing values\n",
      "\n",
      "neighbourhood_group --> 0.0% missing values\n",
      "\n",
      "neighbourhood --> 0.0% missing values\n",
      "\n",
      "latitude --> 0.0% missing values\n",
      "\n",
      "longitude --> 0.0% missing values\n",
      "\n",
      "room_type --> 0.0% missing values\n",
      "\n",
      "price --> 0.0% missing values\n",
      "\n",
      "minimum_nights --> 0.0% missing values\n",
      "\n",
      "number_of_reviews --> 0.0% missing values\n",
      "\n",
      "last_review --> 23.546% missing values\n",
      "\n",
      "reviews_per_month --> 23.546% missing values\n",
      "\n",
      "calculated_host_listings_count --> 0.0% missing values\n",
      "\n",
      "availability_365 --> 0.0% missing values"
     ]
    }
   ],
   "source": [
    "for feature in feature_names\n",
    "    index_missing_data = ismissing.(df[:, feature]) # For each column we obtain 1 if missing, 0 if not\n",
    "    \n",
    "    number_missing_data = sum(index_missing_data)\n",
    "    \n",
    "    # Percentage is calculated\n",
    "    per = percentage(number_missing_data, n_rows_full)\n",
    "    \n",
    "    print(\"\\n\\n\", feature, \" --> \", round(per*100, digits = 3) ,\"% missing values\")\n",
    "end"
   ]
  },
  {
   "cell_type": "markdown",
   "metadata": {},
   "source": [
    "The results show which columns to investigate more:\n",
    "* last_review\n",
    "* reviews_per_month\n",
    "\n",
    "For the rest of the columns, missing values can be eliminated"
   ]
  },
  {
   "cell_type": "code",
   "execution_count": 152,
   "metadata": {},
   "outputs": [
    {
     "data": {
      "text/plain": [
       "(44666, 16)"
      ]
     },
     "execution_count": 152,
     "metadata": {},
     "output_type": "execute_result"
    }
   ],
   "source": [
    "size(df)"
   ]
  },
  {
   "cell_type": "markdown",
   "metadata": {},
   "source": [
    "`last_review` is a date column, `reviews_per_month` is a float that indicates average number of reviews per month. `Missing`values will be substituted by dummy date \"01/01/1900\" and value 0 respectively."
   ]
  },
  {
   "cell_type": "code",
   "execution_count": 153,
   "metadata": {},
   "outputs": [
    {
     "data": {
      "text/plain": [
       "10-element Array{Union{Missing, Date},1}:\n",
       " 2019-11-04\n",
       " 2020-09-20\n",
       " 2019-12-02\n",
       " 2014-01-02\n",
       " 2020-03-15\n",
       " 2017-07-21\n",
       " 2019-08-10\n",
       " 2020-09-09\n",
       " 2019-12-09\n",
       " 2020-03-16"
      ]
     },
     "execution_count": 153,
     "metadata": {},
     "output_type": "execute_result"
    }
   ],
   "source": [
    "df[1:10, :last_review]"
   ]
  },
  {
   "cell_type": "code",
   "execution_count": 154,
   "metadata": {},
   "outputs": [
    {
     "data": {
      "text/plain": [
       "1900-01-01"
      ]
     },
     "execution_count": 154,
     "metadata": {},
     "output_type": "execute_result"
    }
   ],
   "source": [
    "dummy_date = Date(Dates.Month(1),Dates.Year(1900))"
   ]
  },
  {
   "cell_type": "code",
   "execution_count": 155,
   "metadata": {},
   "outputs": [],
   "source": [
    "df[:, :last_review] = coalesce.(df[:, :last_review], dummy_date);"
   ]
  },
  {
   "cell_type": "code",
   "execution_count": 156,
   "metadata": {},
   "outputs": [],
   "source": [
    "df[:, :reviews_per_month] =  coalesce.(df[:, :reviews_per_month], 0);"
   ]
  },
  {
   "cell_type": "markdown",
   "metadata": {},
   "source": [
    "Because the missing values are `host_name`and `name`they will be elimnated as they representa a very small percentage of the total observations"
   ]
  },
  {
   "cell_type": "code",
   "execution_count": 157,
   "metadata": {},
   "outputs": [],
   "source": [
    "index_host_name = .!ismissing.(df[:, :host_name]); # 1 to rows with non missing values"
   ]
  },
  {
   "cell_type": "code",
   "execution_count": 158,
   "metadata": {},
   "outputs": [
    {
     "data": {
      "text/plain": [
       "(44666, 16)"
      ]
     },
     "execution_count": 158,
     "metadata": {},
     "output_type": "execute_result"
    }
   ],
   "source": [
    "size(df)"
   ]
  },
  {
   "cell_type": "code",
   "execution_count": 159,
   "metadata": {},
   "outputs": [],
   "source": [
    "df_clean_host_name = df[index_host_name, :];"
   ]
  },
  {
   "cell_type": "code",
   "execution_count": 160,
   "metadata": {},
   "outputs": [
    {
     "data": {
      "text/plain": [
       "(44649, 16)"
      ]
     },
     "execution_count": 160,
     "metadata": {},
     "output_type": "execute_result"
    }
   ],
   "source": [
    "size(df_clean_host_name)"
   ]
  },
  {
   "cell_type": "markdown",
   "metadata": {},
   "source": [
    "Now it will be checked if there are still rows with missing `name`"
   ]
  },
  {
   "cell_type": "code",
   "execution_count": 161,
   "metadata": {},
   "outputs": [],
   "source": [
    "index_name = .!ismissing.(df_clean_host_name[:, :name]); # 1 to rows with non missing values"
   ]
  },
  {
   "cell_type": "code",
   "execution_count": 162,
   "metadata": {},
   "outputs": [
    {
     "data": {
      "text/plain": [
       "44634"
      ]
     },
     "execution_count": 162,
     "metadata": {},
     "output_type": "execute_result"
    }
   ],
   "source": [
    "sum(index_name)"
   ]
  },
  {
   "cell_type": "markdown",
   "metadata": {},
   "source": [
    "As this number is less than the number of rows of `df_clean_host_name` cleaning is still needed"
   ]
  },
  {
   "cell_type": "code",
   "execution_count": 163,
   "metadata": {},
   "outputs": [],
   "source": [
    "df_clean = df_clean_host_name[index_name, :];"
   ]
  },
  {
   "cell_type": "code",
   "execution_count": 164,
   "metadata": {},
   "outputs": [
    {
     "data": {
      "text/plain": [
       "(44634, 16)"
      ]
     },
     "execution_count": 164,
     "metadata": {},
     "output_type": "execute_result"
    }
   ],
   "source": [
    "size(df_clean)"
   ]
  },
  {
   "cell_type": "markdown",
   "metadata": {},
   "source": [
    "Final check to see all variables are ok"
   ]
  },
  {
   "cell_type": "code",
   "execution_count": 165,
   "metadata": {},
   "outputs": [
    {
     "data": {
      "text/plain": [
       "0"
      ]
     },
     "execution_count": 165,
     "metadata": {},
     "output_type": "execute_result"
    }
   ],
   "source": [
    " any_missing = colwise(x -> any(ismissing.(x)), df_clean);\n",
    "sum(any_missing)"
   ]
  },
  {
   "cell_type": "markdown",
   "metadata": {},
   "source": [
    "No values are missing from any of the columns. Clean dataframe is stored in new variable to prevent overwriting"
   ]
  },
  {
   "cell_type": "code",
   "execution_count": 166,
   "metadata": {},
   "outputs": [],
   "source": [
    "october_2020_dataframe = df_clean;"
   ]
  },
  {
   "cell_type": "markdown",
   "metadata": {},
   "source": [
    "### July 2020"
   ]
  },
  {
   "cell_type": "code",
   "execution_count": 167,
   "metadata": {},
   "outputs": [],
   "source": [
    "df = CSV.read(\"2020_july_listings.csv\");"
   ]
  },
  {
   "cell_type": "markdown",
   "metadata": {},
   "source": [
    "Take a look at variables and see if they have missing values"
   ]
  },
  {
   "cell_type": "code",
   "execution_count": 168,
   "metadata": {},
   "outputs": [],
   "source": [
    "feature_names = names(df);"
   ]
  },
  {
   "cell_type": "code",
   "execution_count": 169,
   "metadata": {},
   "outputs": [
    {
     "name": "stdout",
     "output_type": "stream",
     "text": [
      "1\tid\t\t\tInt64\n",
      "2\tname\t\t\tUnion{Missing, String}\n",
      "3\thost_id\t\t\tInt64\n",
      "4\thost_name\t\t\tUnion{Missing, String}\n",
      "5\tneighbourhood_group\t\t\tString\n",
      "6\tneighbourhood\t\t\tString\n",
      "7\tlatitude\t\t\tFloat64\n",
      "8\tlongitude\t\t\tFloat64\n",
      "9\troom_type\t\t\tString\n",
      "10\tprice\t\t\tInt64\n",
      "11\tminimum_nights\t\t\tInt64\n",
      "12\tnumber_of_reviews\t\t\tInt64\n",
      "13\tlast_review\t\t\tUnion{Missing, Date}\n",
      "14\treviews_per_month\t\t\tUnion{Missing, Float64}\n",
      "15\tcalculated_host_listings_count\t\t\tInt64\n",
      "16\tavailability_365\t\t\tInt64\n"
     ]
    }
   ],
   "source": [
    "for i in 1:length(feature_names)\n",
    "    println(string(i), \"\\t\", string(feature_names[i]), \"\\t\\t\\t\", string(eltype(df[!, i])))\n",
    "end"
   ]
  },
  {
   "cell_type": "markdown",
   "metadata": {},
   "source": [
    "There are missing values in some categories. We will see how much they affect and how many they are."
   ]
  },
  {
   "cell_type": "markdown",
   "metadata": {},
   "source": [
    "Number of rows in full dataset"
   ]
  },
  {
   "cell_type": "code",
   "execution_count": 170,
   "metadata": {},
   "outputs": [
    {
     "data": {
      "text/plain": [
       "48588"
      ]
     },
     "execution_count": 170,
     "metadata": {},
     "output_type": "execute_result"
    }
   ],
   "source": [
    "n_rows_full = size(df,1)"
   ]
  },
  {
   "cell_type": "code",
   "execution_count": 171,
   "metadata": {},
   "outputs": [
    {
     "data": {
      "text/plain": [
       "percentage (generic function with 1 method)"
      ]
     },
     "execution_count": 171,
     "metadata": {},
     "output_type": "execute_result"
    }
   ],
   "source": [
    "function percentage(fraction, total)\n",
    "    return fraction/total\n",
    "end"
   ]
  },
  {
   "cell_type": "markdown",
   "metadata": {},
   "source": [
    "Will see for each of the columns the percentage of missing values that there are in them. The goal of this is to see of it makes sense to substitute missing values for any dummy variable or if we can eliminate the rows."
   ]
  },
  {
   "cell_type": "code",
   "execution_count": 172,
   "metadata": {},
   "outputs": [
    {
     "name": "stdout",
     "output_type": "stream",
     "text": [
      "\n",
      "\n",
      "id --> 0.0% missing values\n",
      "\n",
      "name --> 0.033% missing values\n",
      "\n",
      "host_id --> 0.0% missing values\n",
      "\n",
      "host_name --> 0.025% missing values\n",
      "\n",
      "neighbourhood_group --> 0.0% missing values\n",
      "\n",
      "neighbourhood --> 0.0% missing values\n",
      "\n",
      "latitude --> 0.0% missing values\n",
      "\n",
      "longitude --> 0.0% missing values\n",
      "\n",
      "room_type --> 0.0% missing values\n",
      "\n",
      "price --> 0.0% missing values\n",
      "\n",
      "minimum_nights --> 0.0% missing values\n",
      "\n",
      "number_of_reviews --> 0.0% missing values\n",
      "\n",
      "last_review --> 23.376% missing values\n",
      "\n",
      "reviews_per_month --> 23.376% missing values\n",
      "\n",
      "calculated_host_listings_count --> 0.0% missing values\n",
      "\n",
      "availability_365 --> 0.0% missing values"
     ]
    }
   ],
   "source": [
    "for feature in feature_names\n",
    "    index_missing_data = ismissing.(df[:, feature]) # For each column we obtain 1 if missing, 0 if not\n",
    "    \n",
    "    number_missing_data = sum(index_missing_data)\n",
    "    \n",
    "    # Percentage is calculated\n",
    "    per = percentage(number_missing_data, n_rows_full)\n",
    "    \n",
    "    print(\"\\n\\n\", feature, \" --> \", round(per*100, digits = 3) ,\"% missing values\")\n",
    "end"
   ]
  },
  {
   "cell_type": "markdown",
   "metadata": {},
   "source": [
    "Results are similar to before. We need to investigate same columns:\n",
    "* last_review\n",
    "* reviews_per_month\n",
    "\n",
    "For the rest of the columns, missing values can be eliminated"
   ]
  },
  {
   "cell_type": "code",
   "execution_count": 173,
   "metadata": {},
   "outputs": [
    {
     "data": {
      "text/plain": [
       "(48588, 16)"
      ]
     },
     "execution_count": 173,
     "metadata": {},
     "output_type": "execute_result"
    }
   ],
   "source": [
    "size(df)"
   ]
  },
  {
   "cell_type": "markdown",
   "metadata": {},
   "source": [
    "`last_review` is a date column, `reviews_per_month` is a float that indicates average number of reviews per month. `Missing`values will be substituted by dummy date \"01/01/1900\" and value 0 respectively."
   ]
  },
  {
   "cell_type": "code",
   "execution_count": 174,
   "metadata": {},
   "outputs": [
    {
     "data": {
      "text/plain": [
       "10-element Array{Union{Missing, Date},1}:\n",
       " 2008-09-22\n",
       " 2019-11-04\n",
       " 2020-06-21\n",
       " 2016-12-23\n",
       " 2019-10-13\n",
       " 2019-12-02\n",
       " 2014-01-02\n",
       " 2020-03-15\n",
       " 2017-07-21\n",
       " 2019-07-29"
      ]
     },
     "execution_count": 174,
     "metadata": {},
     "output_type": "execute_result"
    }
   ],
   "source": [
    "df[1:10, :last_review]"
   ]
  },
  {
   "cell_type": "code",
   "execution_count": 175,
   "metadata": {},
   "outputs": [
    {
     "data": {
      "text/plain": [
       "1900-01-01"
      ]
     },
     "execution_count": 175,
     "metadata": {},
     "output_type": "execute_result"
    }
   ],
   "source": [
    "dummy_date = Date(Dates.Month(1),Dates.Year(1900))"
   ]
  },
  {
   "cell_type": "code",
   "execution_count": 176,
   "metadata": {},
   "outputs": [],
   "source": [
    "df[:, :last_review] = coalesce.(df[:, :last_review], dummy_date);"
   ]
  },
  {
   "cell_type": "code",
   "execution_count": 177,
   "metadata": {},
   "outputs": [],
   "source": [
    "df[:, :reviews_per_month] =  coalesce.(df[:, :reviews_per_month], 0);"
   ]
  },
  {
   "cell_type": "markdown",
   "metadata": {},
   "source": [
    "Because the missing values are `host_name`and `name`they will be elimnated as they representa a very small percentage of the total observations"
   ]
  },
  {
   "cell_type": "code",
   "execution_count": 178,
   "metadata": {},
   "outputs": [],
   "source": [
    "index_host_name = .!ismissing.(df[:, :host_name]); # 1 to rows with non missing values"
   ]
  },
  {
   "cell_type": "code",
   "execution_count": 179,
   "metadata": {},
   "outputs": [
    {
     "data": {
      "text/plain": [
       "(48588, 16)"
      ]
     },
     "execution_count": 179,
     "metadata": {},
     "output_type": "execute_result"
    }
   ],
   "source": [
    "size(df)"
   ]
  },
  {
   "cell_type": "code",
   "execution_count": 180,
   "metadata": {},
   "outputs": [],
   "source": [
    "df_clean_host_name = df[index_host_name, :];"
   ]
  },
  {
   "cell_type": "code",
   "execution_count": 181,
   "metadata": {},
   "outputs": [
    {
     "data": {
      "text/plain": [
       "(48576, 16)"
      ]
     },
     "execution_count": 181,
     "metadata": {},
     "output_type": "execute_result"
    }
   ],
   "source": [
    "size(df_clean_host_name)"
   ]
  },
  {
   "cell_type": "markdown",
   "metadata": {},
   "source": [
    "Now it will be checked if there are still rows with missing `name`"
   ]
  },
  {
   "cell_type": "code",
   "execution_count": 182,
   "metadata": {},
   "outputs": [],
   "source": [
    "index_name = .!ismissing.(df_clean_host_name[:, :name]); # 1 to rows with non missing values"
   ]
  },
  {
   "cell_type": "code",
   "execution_count": 183,
   "metadata": {},
   "outputs": [
    {
     "data": {
      "text/plain": [
       "48560"
      ]
     },
     "execution_count": 183,
     "metadata": {},
     "output_type": "execute_result"
    }
   ],
   "source": [
    "sum(index_name)"
   ]
  },
  {
   "cell_type": "markdown",
   "metadata": {},
   "source": [
    "As this number is less than the number of rows of `df_clean_host_name` cleaning is still needed"
   ]
  },
  {
   "cell_type": "code",
   "execution_count": 184,
   "metadata": {},
   "outputs": [],
   "source": [
    "df_clean = df_clean_host_name[index_name, :];"
   ]
  },
  {
   "cell_type": "code",
   "execution_count": 185,
   "metadata": {},
   "outputs": [
    {
     "data": {
      "text/plain": [
       "(48560, 16)"
      ]
     },
     "execution_count": 185,
     "metadata": {},
     "output_type": "execute_result"
    }
   ],
   "source": [
    "size(df_clean)"
   ]
  },
  {
   "cell_type": "markdown",
   "metadata": {},
   "source": [
    "Final check to see all variables are ok"
   ]
  },
  {
   "cell_type": "code",
   "execution_count": 186,
   "metadata": {},
   "outputs": [
    {
     "data": {
      "text/plain": [
       "0"
      ]
     },
     "execution_count": 186,
     "metadata": {},
     "output_type": "execute_result"
    }
   ],
   "source": [
    " any_missing = colwise(x -> any(ismissing.(x)), df_clean);\n",
    "sum(any_missing)"
   ]
  },
  {
   "cell_type": "markdown",
   "metadata": {},
   "source": [
    "No values are missing from any of the columns. Clean dataframe is stored in new variable to prevent overwriting"
   ]
  },
  {
   "cell_type": "code",
   "execution_count": 187,
   "metadata": {},
   "outputs": [],
   "source": [
    "july_2020_dataframe = df_clean;"
   ]
  },
  {
   "cell_type": "markdown",
   "metadata": {},
   "source": [
    "### October 2019"
   ]
  },
  {
   "cell_type": "code",
   "execution_count": 190,
   "metadata": {},
   "outputs": [],
   "source": [
    "df = CSV.read(\"2019_october_listings.csv\");"
   ]
  },
  {
   "cell_type": "markdown",
   "metadata": {},
   "source": [
    "Take a look at variables and see if they have missing values"
   ]
  },
  {
   "cell_type": "code",
   "execution_count": 191,
   "metadata": {},
   "outputs": [],
   "source": [
    "feature_names = names(df);"
   ]
  },
  {
   "cell_type": "code",
   "execution_count": 192,
   "metadata": {},
   "outputs": [
    {
     "name": "stdout",
     "output_type": "stream",
     "text": [
      "1\tid\t\t\tInt64\n",
      "2\tname\t\t\tUnion{Missing, String}\n",
      "3\thost_id\t\t\tInt64\n",
      "4\thost_name\t\t\tUnion{Missing, String}\n",
      "5\tneighbourhood_group\t\t\tString\n",
      "6\tneighbourhood\t\t\tString\n",
      "7\tlatitude\t\t\tFloat64\n",
      "8\tlongitude\t\t\tFloat64\n",
      "9\troom_type\t\t\tString\n",
      "10\tprice\t\t\tInt64\n",
      "11\tminimum_nights\t\t\tInt64\n",
      "12\tnumber_of_reviews\t\t\tInt64\n",
      "13\tlast_review\t\t\tUnion{Missing, Date}\n",
      "14\treviews_per_month\t\t\tUnion{Missing, Float64}\n",
      "15\tcalculated_host_listings_count\t\t\tInt64\n",
      "16\tavailability_365\t\t\tInt64\n"
     ]
    }
   ],
   "source": [
    "for i in 1:length(feature_names)\n",
    "    println(string(i), \"\\t\", string(feature_names[i]), \"\\t\\t\\t\", string(eltype(df[!, i])))\n",
    "end"
   ]
  },
  {
   "cell_type": "markdown",
   "metadata": {},
   "source": [
    "There are missing values in some categories. We will see how much they affect and how many they are."
   ]
  },
  {
   "cell_type": "markdown",
   "metadata": {},
   "source": [
    "Number of rows in full dataset"
   ]
  },
  {
   "cell_type": "code",
   "execution_count": 193,
   "metadata": {},
   "outputs": [
    {
     "data": {
      "text/plain": [
       "48602"
      ]
     },
     "execution_count": 193,
     "metadata": {},
     "output_type": "execute_result"
    }
   ],
   "source": [
    "n_rows_full = size(df,1)"
   ]
  },
  {
   "cell_type": "code",
   "execution_count": 194,
   "metadata": {},
   "outputs": [
    {
     "data": {
      "text/plain": [
       "percentage (generic function with 1 method)"
      ]
     },
     "execution_count": 194,
     "metadata": {},
     "output_type": "execute_result"
    }
   ],
   "source": [
    "function percentage(fraction, total)\n",
    "    return fraction/total\n",
    "end"
   ]
  },
  {
   "cell_type": "markdown",
   "metadata": {},
   "source": [
    "Will see for each of the columns the percentage of missing values that there are in them. The goal of this is to see of it makes sense to substitute missing values for any dummy variable or if we can eliminate the rows."
   ]
  },
  {
   "cell_type": "code",
   "execution_count": 195,
   "metadata": {},
   "outputs": [
    {
     "name": "stdout",
     "output_type": "stream",
     "text": [
      "\n",
      "\n",
      "id --> 0.0% missing values\n",
      "\n",
      "name --> 0.035% missing values\n",
      "\n",
      "host_id --> 0.0% missing values\n",
      "\n",
      "host_name --> 0.066% missing values\n",
      "\n",
      "neighbourhood_group --> 0.0% missing values\n",
      "\n",
      "neighbourhood --> 0.0% missing values\n",
      "\n",
      "latitude --> 0.0% missing values\n",
      "\n",
      "longitude --> 0.0% missing values\n",
      "\n",
      "room_type --> 0.0% missing values\n",
      "\n",
      "price --> 0.0% missing values\n",
      "\n",
      "minimum_nights --> 0.0% missing values\n",
      "\n",
      "number_of_reviews --> 0.0% missing values\n",
      "\n",
      "last_review --> 19.133% missing values\n",
      "\n",
      "reviews_per_month --> 19.133% missing values\n",
      "\n",
      "calculated_host_listings_count --> 0.0% missing values\n",
      "\n",
      "availability_365 --> 0.0% missing values"
     ]
    }
   ],
   "source": [
    "for feature in feature_names\n",
    "    index_missing_data = ismissing.(df[:, feature]) # For each column we obtain 1 if missing, 0 if not\n",
    "    \n",
    "    number_missing_data = sum(index_missing_data)\n",
    "    \n",
    "    # Percentage is calculated\n",
    "    per = percentage(number_missing_data, n_rows_full)\n",
    "    \n",
    "    print(\"\\n\\n\", feature, \" --> \", round(per*100, digits = 3) ,\"% missing values\")\n",
    "end"
   ]
  },
  {
   "cell_type": "markdown",
   "metadata": {},
   "source": [
    "Results are similar to before. We need to investigate same columns:\n",
    "* last_review\n",
    "* reviews_per_month\n",
    "\n",
    "For the rest of the columns, missing values can be eliminated"
   ]
  },
  {
   "cell_type": "code",
   "execution_count": 196,
   "metadata": {},
   "outputs": [
    {
     "data": {
      "text/plain": [
       "(48602, 16)"
      ]
     },
     "execution_count": 196,
     "metadata": {},
     "output_type": "execute_result"
    }
   ],
   "source": [
    "size(df)"
   ]
  },
  {
   "cell_type": "markdown",
   "metadata": {},
   "source": [
    "`last_review` is a date column, `reviews_per_month` is a float that indicates average number of reviews per month. `Missing`values will be substituted by dummy date \"01/01/1900\" and value 0 respectively."
   ]
  },
  {
   "cell_type": "code",
   "execution_count": 198,
   "metadata": {},
   "outputs": [
    {
     "data": {
      "text/plain": [
       "10-element Array{Union{Missing, Date},1}:\n",
       " 2019-09-24\n",
       " 2018-11-19\n",
       " 2019-09-25\n",
       " 2017-10-05\n",
       " 2019-09-28\n",
       " 2017-07-21\n",
       " 2019-07-29\n",
       " 2019-08-03\n",
       " 2019-10-13\n",
       " 2019-09-16"
      ]
     },
     "execution_count": 198,
     "metadata": {},
     "output_type": "execute_result"
    }
   ],
   "source": [
    "df[1:10, :last_review]"
   ]
  },
  {
   "cell_type": "code",
   "execution_count": 199,
   "metadata": {},
   "outputs": [
    {
     "data": {
      "text/plain": [
       "1900-01-01"
      ]
     },
     "execution_count": 199,
     "metadata": {},
     "output_type": "execute_result"
    }
   ],
   "source": [
    "dummy_date = Date(Dates.Month(1),Dates.Year(1900))"
   ]
  },
  {
   "cell_type": "code",
   "execution_count": 200,
   "metadata": {},
   "outputs": [],
   "source": [
    "df[:, :last_review] = coalesce.(df[:, :last_review], dummy_date);"
   ]
  },
  {
   "cell_type": "code",
   "execution_count": 201,
   "metadata": {},
   "outputs": [],
   "source": [
    "df[:, :reviews_per_month] =  coalesce.(df[:, :reviews_per_month], 0);"
   ]
  },
  {
   "cell_type": "markdown",
   "metadata": {},
   "source": [
    "Because the missing values are `host_name`and `name`they will be elimnated as they representa a very small percentage of the total observations"
   ]
  },
  {
   "cell_type": "code",
   "execution_count": 202,
   "metadata": {},
   "outputs": [],
   "source": [
    "index_host_name = .!ismissing.(df[:, :host_name]); # 1 to rows with non missing values"
   ]
  },
  {
   "cell_type": "code",
   "execution_count": 203,
   "metadata": {},
   "outputs": [
    {
     "data": {
      "text/plain": [
       "(48602, 16)"
      ]
     },
     "execution_count": 203,
     "metadata": {},
     "output_type": "execute_result"
    }
   ],
   "source": [
    "size(df)"
   ]
  },
  {
   "cell_type": "code",
   "execution_count": 204,
   "metadata": {},
   "outputs": [],
   "source": [
    "df_clean_host_name = df[index_host_name, :];"
   ]
  },
  {
   "cell_type": "code",
   "execution_count": 205,
   "metadata": {},
   "outputs": [
    {
     "data": {
      "text/plain": [
       "(48570, 16)"
      ]
     },
     "execution_count": 205,
     "metadata": {},
     "output_type": "execute_result"
    }
   ],
   "source": [
    "size(df_clean_host_name)"
   ]
  },
  {
   "cell_type": "markdown",
   "metadata": {},
   "source": [
    "Now it will be checked if there are still rows with missing `name`"
   ]
  },
  {
   "cell_type": "code",
   "execution_count": 206,
   "metadata": {},
   "outputs": [],
   "source": [
    "index_name = .!ismissing.(df_clean_host_name[:, :name]); # 1 to rows with non missing values"
   ]
  },
  {
   "cell_type": "code",
   "execution_count": 207,
   "metadata": {},
   "outputs": [
    {
     "data": {
      "text/plain": [
       "48553"
      ]
     },
     "execution_count": 207,
     "metadata": {},
     "output_type": "execute_result"
    }
   ],
   "source": [
    "sum(index_name)"
   ]
  },
  {
   "cell_type": "markdown",
   "metadata": {},
   "source": [
    "As this number is less than the number of rows of `df_clean_host_name` cleaning is still needed"
   ]
  },
  {
   "cell_type": "code",
   "execution_count": 208,
   "metadata": {},
   "outputs": [],
   "source": [
    "df_clean = df_clean_host_name[index_name, :];"
   ]
  },
  {
   "cell_type": "code",
   "execution_count": 209,
   "metadata": {},
   "outputs": [
    {
     "data": {
      "text/plain": [
       "(48553, 16)"
      ]
     },
     "execution_count": 209,
     "metadata": {},
     "output_type": "execute_result"
    }
   ],
   "source": [
    "size(df_clean)"
   ]
  },
  {
   "cell_type": "markdown",
   "metadata": {},
   "source": [
    "Final check to see all variables are ok"
   ]
  },
  {
   "cell_type": "code",
   "execution_count": 210,
   "metadata": {},
   "outputs": [
    {
     "data": {
      "text/plain": [
       "0"
      ]
     },
     "execution_count": 210,
     "metadata": {},
     "output_type": "execute_result"
    }
   ],
   "source": [
    " any_missing = colwise(x -> any(ismissing.(x)), df_clean);\n",
    "sum(any_missing)"
   ]
  },
  {
   "cell_type": "markdown",
   "metadata": {},
   "source": [
    "No values are missing from any of the columns. Clean dataframe is stored in new variable to prevent overwriting"
   ]
  },
  {
   "cell_type": "code",
   "execution_count": 211,
   "metadata": {},
   "outputs": [],
   "source": [
    "october_2019_dataframe = df_clean;"
   ]
  },
  {
   "cell_type": "markdown",
   "metadata": {},
   "source": [
    "### July 2019"
   ]
  },
  {
   "cell_type": "code",
   "execution_count": 215,
   "metadata": {},
   "outputs": [],
   "source": [
    "df = CSV.read(\"2019_july_listings.csv\");"
   ]
  },
  {
   "cell_type": "markdown",
   "metadata": {},
   "source": [
    "Take a look at variables and see if they have missing values"
   ]
  },
  {
   "cell_type": "code",
   "execution_count": 216,
   "metadata": {},
   "outputs": [],
   "source": [
    "feature_names = names(df);"
   ]
  },
  {
   "cell_type": "code",
   "execution_count": 217,
   "metadata": {},
   "outputs": [
    {
     "name": "stdout",
     "output_type": "stream",
     "text": [
      "1\tid\t\t\tInt64\n",
      "2\tname\t\t\tUnion{Missing, String}\n",
      "3\thost_id\t\t\tInt64\n",
      "4\thost_name\t\t\tUnion{Missing, String}\n",
      "5\tneighbourhood_group\t\t\tString\n",
      "6\tneighbourhood\t\t\tString\n",
      "7\tlatitude\t\t\tFloat64\n",
      "8\tlongitude\t\t\tFloat64\n",
      "9\troom_type\t\t\tString\n",
      "10\tprice\t\t\tInt64\n",
      "11\tminimum_nights\t\t\tInt64\n",
      "12\tnumber_of_reviews\t\t\tInt64\n",
      "13\tlast_review\t\t\tUnion{Missing, Date}\n",
      "14\treviews_per_month\t\t\tUnion{Missing, Float64}\n",
      "15\tcalculated_host_listings_count\t\t\tInt64\n",
      "16\tavailability_365\t\t\tInt64\n"
     ]
    }
   ],
   "source": [
    "for i in 1:length(feature_names)\n",
    "    println(string(i), \"\\t\", string(feature_names[i]), \"\\t\\t\\t\", string(eltype(df[!, i])))\n",
    "end"
   ]
  },
  {
   "cell_type": "markdown",
   "metadata": {},
   "source": [
    "There are missing values in some categories. We will see how much they affect and how many they are."
   ]
  },
  {
   "cell_type": "markdown",
   "metadata": {},
   "source": [
    "Number of rows in full dataset"
   ]
  },
  {
   "cell_type": "code",
   "execution_count": 218,
   "metadata": {},
   "outputs": [
    {
     "data": {
      "text/plain": [
       "48895"
      ]
     },
     "execution_count": 218,
     "metadata": {},
     "output_type": "execute_result"
    }
   ],
   "source": [
    "n_rows_full = size(df,1)"
   ]
  },
  {
   "cell_type": "code",
   "execution_count": 219,
   "metadata": {},
   "outputs": [
    {
     "data": {
      "text/plain": [
       "percentage (generic function with 1 method)"
      ]
     },
     "execution_count": 219,
     "metadata": {},
     "output_type": "execute_result"
    }
   ],
   "source": [
    "function percentage(fraction, total)\n",
    "    return fraction/total\n",
    "end"
   ]
  },
  {
   "cell_type": "markdown",
   "metadata": {},
   "source": [
    "Will see for each of the columns the percentage of missing values that there are in them. The goal of this is to see of it makes sense to substitute missing values for any dummy variable or if we can eliminate the rows."
   ]
  },
  {
   "cell_type": "code",
   "execution_count": 220,
   "metadata": {},
   "outputs": [
    {
     "name": "stdout",
     "output_type": "stream",
     "text": [
      "\n",
      "\n",
      "id --> 0.0% missing values\n",
      "\n",
      "name --> 0.033% missing values\n",
      "\n",
      "host_id --> 0.0% missing values\n",
      "\n",
      "host_name --> 0.043% missing values\n",
      "\n",
      "neighbourhood_group --> 0.0% missing values\n",
      "\n",
      "neighbourhood --> 0.0% missing values\n",
      "\n",
      "latitude --> 0.0% missing values\n",
      "\n",
      "longitude --> 0.0% missing values\n",
      "\n",
      "room_type --> 0.0% missing values\n",
      "\n",
      "price --> 0.0% missing values\n",
      "\n",
      "minimum_nights --> 0.0% missing values\n",
      "\n",
      "number_of_reviews --> 0.0% missing values\n",
      "\n",
      "last_review --> 20.558% missing values\n",
      "\n",
      "reviews_per_month --> 20.558% missing values\n",
      "\n",
      "calculated_host_listings_count --> 0.0% missing values\n",
      "\n",
      "availability_365 --> 0.0% missing values"
     ]
    }
   ],
   "source": [
    "for feature in feature_names\n",
    "    index_missing_data = ismissing.(df[:, feature]) # For each column we obtain 1 if missing, 0 if not\n",
    "    \n",
    "    number_missing_data = sum(index_missing_data)\n",
    "    \n",
    "    # Percentage is calculated\n",
    "    per = percentage(number_missing_data, n_rows_full)\n",
    "    \n",
    "    print(\"\\n\\n\", feature, \" --> \", round(per*100, digits = 3) ,\"% missing values\")\n",
    "end"
   ]
  },
  {
   "cell_type": "markdown",
   "metadata": {},
   "source": [
    "Results are similar to before. We need to investigate same columns:\n",
    "* last_review\n",
    "* reviews_per_month\n",
    "\n",
    "For the rest of the columns, missing values can be eliminated"
   ]
  },
  {
   "cell_type": "code",
   "execution_count": 221,
   "metadata": {},
   "outputs": [
    {
     "data": {
      "text/plain": [
       "(48895, 16)"
      ]
     },
     "execution_count": 221,
     "metadata": {},
     "output_type": "execute_result"
    }
   ],
   "source": [
    "size(df)"
   ]
  },
  {
   "cell_type": "markdown",
   "metadata": {},
   "source": [
    "`last_review` is a date column, `reviews_per_month` is a float that indicates average number of reviews per month. `Missing`values will be substituted by dummy date \"01/01/1900\" and value 0 respectively."
   ]
  },
  {
   "cell_type": "code",
   "execution_count": 222,
   "metadata": {},
   "outputs": [
    {
     "data": {
      "text/plain": [
       "10-element Array{Union{Missing, Date},1}:\n",
       " 2018-10-19\n",
       " 2019-05-21\n",
       " missing\n",
       " 2019-07-05\n",
       " 2018-11-19\n",
       " 2019-06-22\n",
       " 2017-10-05\n",
       " 2019-06-24\n",
       " 2017-07-21\n",
       " 2019-06-09"
      ]
     },
     "execution_count": 222,
     "metadata": {},
     "output_type": "execute_result"
    }
   ],
   "source": [
    "df[1:10, :last_review]"
   ]
  },
  {
   "cell_type": "code",
   "execution_count": 223,
   "metadata": {},
   "outputs": [
    {
     "data": {
      "text/plain": [
       "1900-01-01"
      ]
     },
     "execution_count": 223,
     "metadata": {},
     "output_type": "execute_result"
    }
   ],
   "source": [
    "dummy_date = Date(Dates.Month(1),Dates.Year(1900))"
   ]
  },
  {
   "cell_type": "code",
   "execution_count": 224,
   "metadata": {},
   "outputs": [],
   "source": [
    "df[:, :last_review] = coalesce.(df[:, :last_review], dummy_date);"
   ]
  },
  {
   "cell_type": "code",
   "execution_count": 225,
   "metadata": {},
   "outputs": [],
   "source": [
    "df[:, :reviews_per_month] =  coalesce.(df[:, :reviews_per_month], 0);"
   ]
  },
  {
   "cell_type": "markdown",
   "metadata": {},
   "source": [
    "Because the missing values are `host_name`and `name`they will be elimnated as they representa a very small percentage of the total observations"
   ]
  },
  {
   "cell_type": "code",
   "execution_count": 226,
   "metadata": {},
   "outputs": [],
   "source": [
    "index_host_name = .!ismissing.(df[:, :host_name]); # 1 to rows with non missing values"
   ]
  },
  {
   "cell_type": "code",
   "execution_count": 227,
   "metadata": {},
   "outputs": [
    {
     "data": {
      "text/plain": [
       "(48895, 16)"
      ]
     },
     "execution_count": 227,
     "metadata": {},
     "output_type": "execute_result"
    }
   ],
   "source": [
    "size(df)"
   ]
  },
  {
   "cell_type": "code",
   "execution_count": 228,
   "metadata": {},
   "outputs": [],
   "source": [
    "df_clean_host_name = df[index_host_name, :];"
   ]
  },
  {
   "cell_type": "code",
   "execution_count": 229,
   "metadata": {},
   "outputs": [
    {
     "data": {
      "text/plain": [
       "(48874, 16)"
      ]
     },
     "execution_count": 229,
     "metadata": {},
     "output_type": "execute_result"
    }
   ],
   "source": [
    "size(df_clean_host_name)"
   ]
  },
  {
   "cell_type": "markdown",
   "metadata": {},
   "source": [
    "Now it will be checked if there are still rows with missing `name`"
   ]
  },
  {
   "cell_type": "code",
   "execution_count": 230,
   "metadata": {},
   "outputs": [],
   "source": [
    "index_name = .!ismissing.(df_clean_host_name[:, :name]); # 1 to rows with non missing values"
   ]
  },
  {
   "cell_type": "code",
   "execution_count": 231,
   "metadata": {},
   "outputs": [
    {
     "data": {
      "text/plain": [
       "48858"
      ]
     },
     "execution_count": 231,
     "metadata": {},
     "output_type": "execute_result"
    }
   ],
   "source": [
    "sum(index_name)"
   ]
  },
  {
   "cell_type": "markdown",
   "metadata": {},
   "source": [
    "As this number is less than the number of rows of `df_clean_host_name` cleaning is still needed"
   ]
  },
  {
   "cell_type": "code",
   "execution_count": 232,
   "metadata": {},
   "outputs": [],
   "source": [
    "df_clean = df_clean_host_name[index_name, :];"
   ]
  },
  {
   "cell_type": "code",
   "execution_count": 233,
   "metadata": {},
   "outputs": [
    {
     "data": {
      "text/plain": [
       "(48858, 16)"
      ]
     },
     "execution_count": 233,
     "metadata": {},
     "output_type": "execute_result"
    }
   ],
   "source": [
    "size(df_clean)"
   ]
  },
  {
   "cell_type": "markdown",
   "metadata": {},
   "source": [
    "Final check to see all variables are ok"
   ]
  },
  {
   "cell_type": "code",
   "execution_count": 234,
   "metadata": {},
   "outputs": [
    {
     "data": {
      "text/plain": [
       "0"
      ]
     },
     "execution_count": 234,
     "metadata": {},
     "output_type": "execute_result"
    }
   ],
   "source": [
    " any_missing = colwise(x -> any(ismissing.(x)), df_clean);\n",
    "sum(any_missing)"
   ]
  },
  {
   "cell_type": "markdown",
   "metadata": {},
   "source": [
    "No values are missing from any of the columns. Clean dataframe is stored in new variable to prevent overwriting"
   ]
  },
  {
   "cell_type": "code",
   "execution_count": 235,
   "metadata": {},
   "outputs": [],
   "source": [
    "july_2019_dataframe = df_clean;"
   ]
  },
  {
   "cell_type": "markdown",
   "metadata": {},
   "source": [
    "#### Save all clean dataframes as csv"
   ]
  },
  {
   "cell_type": "code",
   "execution_count": 268,
   "metadata": {},
   "outputs": [
    {
     "data": {
      "text/plain": [
       "\"2020_october_listings_clean.csv\""
      ]
     },
     "execution_count": 268,
     "metadata": {},
     "output_type": "execute_result"
    }
   ],
   "source": [
    "CSV.write(\"2020_october_listings_clean.csv\", october_2020_dataframe)"
   ]
  },
  {
   "cell_type": "code",
   "execution_count": 269,
   "metadata": {},
   "outputs": [
    {
     "data": {
      "text/plain": [
       "\"2020_july_listings_clean.csv\""
      ]
     },
     "execution_count": 269,
     "metadata": {},
     "output_type": "execute_result"
    }
   ],
   "source": [
    "CSV.write(\"2020_july_listings_clean.csv\", july_2020_dataframe)"
   ]
  },
  {
   "cell_type": "code",
   "execution_count": 270,
   "metadata": {},
   "outputs": [
    {
     "data": {
      "text/plain": [
       "\"2019_october_listings_clean.csv\""
      ]
     },
     "execution_count": 270,
     "metadata": {},
     "output_type": "execute_result"
    }
   ],
   "source": [
    "CSV.write(\"2019_october_listings_clean.csv\", october_2019_dataframe)"
   ]
  },
  {
   "cell_type": "code",
   "execution_count": 271,
   "metadata": {},
   "outputs": [
    {
     "data": {
      "text/plain": [
       "\"2019_july_listings_clean.csv\""
      ]
     },
     "execution_count": 271,
     "metadata": {},
     "output_type": "execute_result"
    }
   ],
   "source": [
    "CSV.write(\"2019_july_listings_clean.csv\", july_2019_dataframe)"
   ]
  },
  {
   "cell_type": "markdown",
   "metadata": {},
   "source": [
    "##  Variable encoding"
   ]
  },
  {
   "cell_type": "markdown",
   "metadata": {},
   "source": [
    "Now that the data is clean, several columns will be encoded in order to do easier analysis:\n",
    "* `neighbourhood_group`\n",
    "* `neighbourhood`\n",
    "* `room_type`\n",
    "\n",
    "Maybe `last_review` could be considered to be encoded [Recently, last 3 months, never]. This is something to consider"
   ]
  },
  {
   "cell_type": "code",
   "execution_count": 243,
   "metadata": {},
   "outputs": [],
   "source": [
    "dataframes = [october_2020_dataframe, july_2020_dataframe, october_2019_dataframe, july_2019_dataframe];"
   ]
  },
  {
   "cell_type": "code",
   "execution_count": 251,
   "metadata": {},
   "outputs": [],
   "source": [
    "dataframe_names = [\"october_2020_dataframe\", \"july_2020_dataframe\", \"october_2019_dataframe\", \"july_2019_dataframe\"];"
   ]
  },
  {
   "cell_type": "code",
   "execution_count": 248,
   "metadata": {},
   "outputs": [],
   "source": [
    "variables_to_encode = [\"neighbourhood_group\", \"neighbourhood\", \"room_type\" ];"
   ]
  },
  {
   "cell_type": "code",
   "execution_count": 265,
   "metadata": {},
   "outputs": [
    {
     "name": "stdout",
     "output_type": "stream",
     "text": [
      "\n",
      "\n",
      " october_2020_dataframe\n",
      " =======================\n",
      " neighbourhood_group\n",
      "5\n",
      " neighbourhood\n",
      "221\n",
      " room_type\n",
      "4\n",
      "\n",
      " july_2020_dataframe\n",
      " =======================\n",
      " neighbourhood_group\n",
      "5\n",
      " neighbourhood\n",
      "222\n",
      " room_type\n",
      "4\n",
      "\n",
      " october_2019_dataframe\n",
      " =======================\n",
      " neighbourhood_group\n",
      "5\n",
      " neighbourhood\n",
      "223\n",
      " room_type\n",
      "4\n",
      "\n",
      " july_2019_dataframe\n",
      " =======================\n",
      " neighbourhood_group\n",
      "5\n",
      " neighbourhood\n",
      "221\n",
      " room_type\n",
      "3"
     ]
    }
   ],
   "source": [
    "for i in 1:length(dataframe_names)\n",
    "    print(\"\\n\\n \", dataframe_names[i])\n",
    "    print(\"\\n =======================\")\n",
    "    \n",
    "    for variable in variables_to_encode\n",
    "        print(\"\\n \", variable, \"\\n\")\n",
    "        unique_values = unique(dataframes[i][:,variable] )\n",
    "        print(length(unique_values))\n",
    "    end\n",
    "end\n"
   ]
  },
  {
   "cell_type": "markdown",
   "metadata": {},
   "source": [
    "* `neighbourhood_group`: Can encode directly in all of them\n",
    "* `neighbourhood`: Need to see the 2 (at least) different values\n",
    "* `room_type`: july 2019 only has 3 types\n"
   ]
  },
  {
   "cell_type": "markdown",
   "metadata": {},
   "source": [
    "Next steps are to encode the three studied variables in all four datasets using the same coding pattern so the results are better understood in all. This will be accomplished with the following steps:\n",
    "1. Create new column in all datasets indicating what period of time the row corresponds to (oct 2020, jul 2020...)\n",
    "2. Join all datasets in the same one\n",
    "3. Encode the necessary variables globally to ensure encoding is consistent across all datasets\n",
    "4. Separate the data to remake initial datasets"
   ]
  },
  {
   "cell_type": "markdown",
   "metadata": {},
   "source": [
    "#### 1. Create new column"
   ]
  },
  {
   "cell_type": "code",
   "execution_count": null,
   "metadata": {},
   "outputs": [],
   "source": []
  },
  {
   "cell_type": "markdown",
   "metadata": {},
   "source": [
    "#### 2. Join all datasets"
   ]
  },
  {
   "cell_type": "code",
   "execution_count": null,
   "metadata": {},
   "outputs": [],
   "source": []
  },
  {
   "cell_type": "markdown",
   "metadata": {},
   "source": [
    "#### 3. Encode all variables"
   ]
  },
  {
   "cell_type": "code",
   "execution_count": 236,
   "metadata": {},
   "outputs": [
    {
     "data": {
      "text/plain": [
       "manyhot (generic function with 2 methods)"
      ]
     },
     "execution_count": 236,
     "metadata": {},
     "output_type": "execute_result"
    }
   ],
   "source": [
    "function manyhot(column, cats=unique(col))\n",
    "    result = zeros( size(column,1), size(cats,1) )\n",
    "    for i in 1:length(column)\n",
    "        set_of_descriptions = column[i]\n",
    "        for description in set_of_descriptions\n",
    "            for j in 1:length(cats) \n",
    "                if description == cats[j]\n",
    "                    result[i,j] = 1\n",
    "                end\n",
    "            end\n",
    "        end\n",
    "    end\n",
    "    return result\n",
    "end"
   ]
  },
  {
   "cell_type": "markdown",
   "metadata": {},
   "source": [
    "**`neigbourhood_group`**"
   ]
  },
  {
   "cell_type": "markdown",
   "metadata": {},
   "source": [
    "**`neigbourhood`**"
   ]
  },
  {
   "cell_type": "markdown",
   "metadata": {},
   "source": [
    "**`room_type`**"
   ]
  },
  {
   "cell_type": "markdown",
   "metadata": {},
   "source": [
    "#### 4. Separate data by initial variable to obtain original datasets"
   ]
  },
  {
   "cell_type": "code",
   "execution_count": null,
   "metadata": {},
   "outputs": [],
   "source": []
  }
 ],
 "metadata": {
  "kernelspec": {
   "display_name": "Julia 1.5.1",
   "language": "julia",
   "name": "julia-1.5"
  },
  "language_info": {
   "file_extension": ".jl",
   "mimetype": "application/julia",
   "name": "julia",
   "version": "1.5.1"
  }
 },
 "nbformat": 4,
 "nbformat_minor": 4
}
