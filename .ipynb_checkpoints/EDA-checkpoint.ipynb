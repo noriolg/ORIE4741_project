{
 "cells": [
  {
   "cell_type": "markdown",
   "metadata": {},
   "source": [
    "### EDA Airbnb"
   ]
  },
  {
   "cell_type": "markdown",
   "metadata": {},
   "source": [
    "The hope is that this code can be applied to any file that we end up choosing"
   ]
  },
  {
   "cell_type": "code",
   "execution_count": 1,
   "metadata": {},
   "outputs": [
    {
     "name": "stderr",
     "output_type": "stream",
     "text": [
      "┌ Info: Precompiling CSV [336ed68f-0bac-5ca0-87d4-7b16caf5d00b]\n",
      "└ @ Base loading.jl:1278\n"
     ]
    }
   ],
   "source": [
    "using CSV\n",
    "using Plots\n",
    "using DataFrames\n"
   ]
  },
  {
   "cell_type": "code",
   "execution_count": 4,
   "metadata": {},
   "outputs": [],
   "source": [
    "df = CSV.read(\"listings_treated.csv\");"
   ]
  },
  {
   "cell_type": "code",
   "execution_count": 6,
   "metadata": {},
   "outputs": [],
   "source": [
    "feature_names = names(df);"
   ]
  },
  {
   "cell_type": "code",
   "execution_count": 7,
   "metadata": {},
   "outputs": [
    {
     "name": "stdout",
     "output_type": "stream",
     "text": [
      "1\tid\t\t\tUnion{Missing, String}\n",
      "2\tname\t\t\tUnion{Missing, String}\n",
      "3\thost_id\t\t\tUnion{Missing, String}\n",
      "4\thost_name\t\t\tUnion{Missing, String}\n",
      "5\tneighbourhood_group\t\t\tUnion{Missing, String}\n",
      "6\tneighbourhood\t\t\tUnion{Missing, String}\n",
      "7\tlatitude\t\t\tUnion{Missing, String}\n",
      "8\tlongitude\t\t\tUnion{Missing, String}\n",
      "9\troom_type\t\t\tUnion{Missing, String}\n",
      "10\tprice\t\t\tUnion{Missing, String}\n",
      "11\tminimum_nights\t\t\tUnion{Missing, String}\n",
      "12\tnumber_of_reviews\t\t\tUnion{Missing, String}\n",
      "13\tlast_review\t\t\tUnion{Missing, String}\n",
      "14\treviews_per_month\t\t\tUnion{Missing, String}\n",
      "15\tcalculated_host_listings_count\t\t\tUnion{Missing, Float64}\n",
      "16\tavailability_365\t\t\tUnion{Missing, Int64}\n",
      "17\tColumn17\t\t\tUnion{Missing, Int64}\n",
      "18\tColumn18\t\t\tUnion{Missing, Int64}\n"
     ]
    }
   ],
   "source": [
    "for i in 1:length(feature_names)\n",
    "    println(string(i), \"\\t\", string(feature_names[i]), \"\\t\\t\\t\", string(eltype(df[!, i])))\n",
    "end"
   ]
  },
  {
   "cell_type": "markdown",
   "metadata": {},
   "source": [
    "There are missing values in almost every category. We will see how much they affect and how many they are."
   ]
  },
  {
   "cell_type": "markdown",
   "metadata": {},
   "source": [
    "Number of rows in full dataset"
   ]
  },
  {
   "cell_type": "code",
   "execution_count": 13,
   "metadata": {},
   "outputs": [
    {
     "data": {
      "text/plain": [
       "44794"
      ]
     },
     "execution_count": 13,
     "metadata": {},
     "output_type": "execute_result"
    }
   ],
   "source": [
    "n_rows_full = size(df,1)"
   ]
  },
  {
   "cell_type": "code",
   "execution_count": 22,
   "metadata": {},
   "outputs": [
    {
     "data": {
      "text/plain": [
       "percentage (generic function with 1 method)"
      ]
     },
     "execution_count": 22,
     "metadata": {},
     "output_type": "execute_result"
    }
   ],
   "source": [
    "function percentage(fraction, total)\n",
    "    return fraction/total\n",
    "end"
   ]
  },
  {
   "cell_type": "code",
   "execution_count": 40,
   "metadata": {},
   "outputs": [
    {
     "name": "stdout",
     "output_type": "stream",
     "text": [
      "\n",
      "\n",
      "id --> 0.01% missing values\n",
      "\n",
      "name --> 0.07% missing values\n",
      "\n",
      "host_id --> 0.31% missing values\n",
      "\n",
      "host_name --> 0.35% missing values\n",
      "\n",
      "neighbourhood_group --> 0.32% missing values\n",
      "\n",
      "neighbourhood --> 0.32% missing values\n",
      "\n",
      "latitude --> 0.32% missing values\n",
      "\n",
      "longitude --> 0.32% missing values\n",
      "\n",
      "room_type --> 0.32% missing values\n",
      "\n",
      "price --> 0.32% missing values\n",
      "\n",
      "minimum_nights --> 0.32% missing values\n",
      "\n",
      "number_of_reviews --> 0.36% missing values\n",
      "\n",
      "last_review --> 23.77% missing values\n",
      "\n",
      "reviews_per_month --> 23.73% missing values\n",
      "\n",
      "calculated_host_listings_count --> 0.32% missing values\n",
      "\n",
      "availability_365 --> 0.56% missing values\n",
      "\n",
      "Column17 --> 99.99% missing values\n",
      "\n",
      "Column18 --> 100.0% missing values"
     ]
    }
   ],
   "source": [
    "for feature in feature_names\n",
    "    index_missing_data = ismissing.(df[:, feature]) # For each column we obtain 1 if missing, 0 if not\n",
    "    \n",
    "    number_missing_data = sum(index_missing_data)\n",
    "    \n",
    "    \n",
    "\n",
    "    # Percentage is calculated\n",
    "    per = percentage(number_missing_data, n_rows_full)\n",
    "    \n",
    "    print(\"\\n\\n\", feature, \" --> \", round(per*100, digits = 2) ,\"% missing values\")\n",
    "    \n",
    "end\n",
    "\n"
   ]
  },
  {
   "cell_type": "markdown",
   "metadata": {},
   "source": [
    "The results show which columns to investigate more:\n",
    "* last_review\n",
    "* reviews_per_month\n",
    "* Columns 17 and 18"
   ]
  },
  {
   "cell_type": "markdown",
   "metadata": {},
   "source": []
  },
  {
   "cell_type": "code",
   "execution_count": null,
   "metadata": {},
   "outputs": [],
   "source": []
  }
 ],
 "metadata": {
  "kernelspec": {
   "display_name": "Julia 1.5.1",
   "language": "julia",
   "name": "julia-1.5"
  },
  "language_info": {
   "file_extension": ".jl",
   "mimetype": "application/julia",
   "name": "julia",
   "version": "1.5.1"
  }
 },
 "nbformat": 4,
 "nbformat_minor": 4
}
