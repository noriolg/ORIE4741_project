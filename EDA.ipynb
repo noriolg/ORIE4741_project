{
 "cells": [
  {
   "cell_type": "markdown",
   "metadata": {},
   "source": [
    "### EDA Airbnb"
   ]
  },
  {
   "cell_type": "markdown",
   "metadata": {},
   "source": [
    "The hope is that this code can be applied to any file that we end up choosing"
   ]
  },
  {
   "cell_type": "code",
   "execution_count": 105,
   "metadata": {},
   "outputs": [],
   "source": [
    "using CSV\n",
    "using Plots\n",
    "using DataFrames\n"
   ]
  },
  {
   "cell_type": "code",
   "execution_count": 106,
   "metadata": {},
   "outputs": [],
   "source": [
    "df = CSV.read(\"listings_treated.csv\");"
   ]
  },
  {
   "cell_type": "code",
   "execution_count": 107,
   "metadata": {},
   "outputs": [],
   "source": [
    "feature_names = names(df);"
   ]
  },
  {
   "cell_type": "code",
   "execution_count": 108,
   "metadata": {},
   "outputs": [
    {
     "name": "stdout",
     "output_type": "stream",
     "text": [
      "1\tid\t\t\tUnion{Missing, String}\n",
      "2\tname\t\t\tUnion{Missing, String}\n",
      "3\thost_id\t\t\tUnion{Missing, String}\n",
      "4\thost_name\t\t\tUnion{Missing, String}\n",
      "5\tneighbourhood_group\t\t\tUnion{Missing, String}\n",
      "6\tneighbourhood\t\t\tUnion{Missing, String}\n",
      "7\tlatitude\t\t\tUnion{Missing, String}\n",
      "8\tlongitude\t\t\tUnion{Missing, String}\n",
      "9\troom_type\t\t\tUnion{Missing, String}\n",
      "10\tprice\t\t\tUnion{Missing, String}\n",
      "11\tminimum_nights\t\t\tUnion{Missing, String}\n",
      "12\tnumber_of_reviews\t\t\tUnion{Missing, String}\n",
      "13\tlast_review\t\t\tUnion{Missing, String}\n",
      "14\treviews_per_month\t\t\tUnion{Missing, String}\n",
      "15\tcalculated_host_listings_count\t\t\tUnion{Missing, Float64}\n",
      "16\tavailability_365\t\t\tUnion{Missing, Int64}\n",
      "17\tColumn17\t\t\tUnion{Missing, Int64}\n",
      "18\tColumn18\t\t\tUnion{Missing, Int64}\n"
     ]
    }
   ],
   "source": [
    "for i in 1:length(feature_names)\n",
    "    println(string(i), \"\\t\", string(feature_names[i]), \"\\t\\t\\t\", string(eltype(df[!, i])))\n",
    "end"
   ]
  },
  {
   "cell_type": "markdown",
   "metadata": {},
   "source": [
    "There are missing values in almost every category. We will see how much they affect and how many they are."
   ]
  },
  {
   "cell_type": "markdown",
   "metadata": {},
   "source": [
    "Number of rows in full dataset"
   ]
  },
  {
   "cell_type": "code",
   "execution_count": 109,
   "metadata": {},
   "outputs": [
    {
     "data": {
      "text/plain": [
       "44794"
      ]
     },
     "execution_count": 109,
     "metadata": {},
     "output_type": "execute_result"
    }
   ],
   "source": [
    "n_rows_full = size(df,1)"
   ]
  },
  {
   "cell_type": "code",
   "execution_count": 110,
   "metadata": {},
   "outputs": [
    {
     "data": {
      "text/plain": [
       "percentage (generic function with 1 method)"
      ]
     },
     "execution_count": 110,
     "metadata": {},
     "output_type": "execute_result"
    }
   ],
   "source": [
    "function percentage(fraction, total)\n",
    "    return fraction/total\n",
    "end"
   ]
  },
  {
   "cell_type": "code",
   "execution_count": 111,
   "metadata": {},
   "outputs": [
    {
     "name": "stdout",
     "output_type": "stream",
     "text": [
      "\n",
      "\n",
      "id --> 0.01% missing values\n",
      "\n",
      "name --> 0.07% missing values\n",
      "\n",
      "host_id --> 0.31% missing values\n",
      "\n",
      "host_name --> 0.35% missing values\n",
      "\n",
      "neighbourhood_group --> 0.32% missing values\n",
      "\n",
      "neighbourhood --> 0.32% missing values\n",
      "\n",
      "latitude --> 0.32% missing values\n",
      "\n",
      "longitude --> 0.32% missing values\n",
      "\n",
      "room_type --> 0.32% missing values\n",
      "\n",
      "price --> 0.32% missing values\n",
      "\n",
      "minimum_nights --> 0.32% missing values\n",
      "\n",
      "number_of_reviews --> 0.36% missing values\n",
      "\n",
      "last_review --> 23.77% missing values\n",
      "\n",
      "reviews_per_month --> 23.73% missing values\n",
      "\n",
      "calculated_host_listings_count --> 0.32% missing values\n",
      "\n",
      "availability_365 --> 0.56% missing values\n",
      "\n",
      "Column17 --> 99.99% missing values\n",
      "\n",
      "Column18 --> 100.0% missing values"
     ]
    }
   ],
   "source": [
    "for feature in feature_names\n",
    "    index_missing_data = ismissing.(df[:, feature]) # For each column we obtain 1 if missing, 0 if not\n",
    "    \n",
    "    number_missing_data = sum(index_missing_data)\n",
    "    \n",
    "    \n",
    "\n",
    "    # Percentage is calculated\n",
    "    per = percentage(number_missing_data, n_rows_full)\n",
    "    \n",
    "    print(\"\\n\\n\", feature, \" --> \", round(per*100, digits = 2) ,\"% missing values\")\n",
    "    \n",
    "end\n",
    "\n"
   ]
  },
  {
   "cell_type": "markdown",
   "metadata": {},
   "source": [
    "The results show which columns to investigate more:\n",
    "* last_review\n",
    "* reviews_per_month\n",
    "* Columns 17 and 18"
   ]
  },
  {
   "cell_type": "markdown",
   "metadata": {},
   "source": [
    "Columns 17 and 18 are eliminated"
   ]
  },
  {
   "cell_type": "code",
   "execution_count": 112,
   "metadata": {},
   "outputs": [
    {
     "data": {
      "text/plain": [
       "(44794, 18)"
      ]
     },
     "execution_count": 112,
     "metadata": {},
     "output_type": "execute_result"
    }
   ],
   "source": [
    "size(df)"
   ]
  },
  {
   "cell_type": "code",
   "execution_count": 113,
   "metadata": {},
   "outputs": [
    {
     "data": {
      "text/plain": [
       "(44794, 16)"
      ]
     },
     "execution_count": 113,
     "metadata": {},
     "output_type": "execute_result"
    }
   ],
   "source": [
    "select!(df, Not([:Column17, :Column18]))\n",
    "size(df)\n"
   ]
  },
  {
   "cell_type": "markdown",
   "metadata": {},
   "source": [
    "`last_review` is a date column, `reviews_per_month` is a float that indicates avergae number of reviews per month. `Missing`values will be substituted by dummy date \"01/01/1900\" and value 0 respectively."
   ]
  },
  {
   "cell_type": "code",
   "execution_count": 114,
   "metadata": {},
   "outputs": [],
   "source": [
    "df[:, :last_review] =  coalesce.(df[:, :last_review], \"01/01/1900\");"
   ]
  },
  {
   "cell_type": "code",
   "execution_count": 115,
   "metadata": {},
   "outputs": [],
   "source": [
    "df[:, :reviews_per_month] =  coalesce.(df[:, :reviews_per_month], \"0\");"
   ]
  },
  {
   "cell_type": "markdown",
   "metadata": {},
   "source": [
    "Row  22695 has its columns inverted"
   ]
  },
  {
   "cell_type": "code",
   "execution_count": 116,
   "metadata": {},
   "outputs": [
    {
     "data": {
      "text/html": [
       "<table class=\"data-frame\"><thead><tr><th></th><th>last_review</th><th>reviews_per_month</th></tr><tr><th></th><th>String?</th><th>String?</th></tr></thead><tbody><p>3 rows × 2 columns</p><tr><th>1</th><td>01/01/1900</td><td>0</td></tr><tr><th>2</th><td>13</td><td>11/06/2018</td></tr><tr><th>3</th><td>19/12/2019</td><td>0.21</td></tr></tbody></table>"
      ],
      "text/latex": [
       "\\begin{tabular}{r|cc}\n",
       "\t& last\\_review & reviews\\_per\\_month\\\\\n",
       "\t\\hline\n",
       "\t& String? & String?\\\\\n",
       "\t\\hline\n",
       "\t1 & 01/01/1900 & 0 \\\\\n",
       "\t2 & 13 & 11/06/2018 \\\\\n",
       "\t3 & 19/12/2019 & 0.21 \\\\\n",
       "\\end{tabular}\n"
      ],
      "text/plain": [
       "3×2 DataFrame\n",
       "│ Row │ last_review │ reviews_per_month │\n",
       "│     │ \u001b[90mString?\u001b[39m     │ \u001b[90mString?\u001b[39m           │\n",
       "├─────┼─────────────┼───────────────────┤\n",
       "│ 1   │ 01/01/1900  │ 0                 │\n",
       "│ 2   │ 13          │ 11/06/2018        │\n",
       "│ 3   │ 19/12/2019  │ 0.21              │"
      ]
     },
     "execution_count": 116,
     "metadata": {},
     "output_type": "execute_result"
    }
   ],
   "source": [
    "df[22694:22696, [:last_review,:reviews_per_month]]"
   ]
  },
  {
   "cell_type": "markdown",
   "metadata": {},
   "source": [
    "And a high number of reviews per monnth. It will be deleted as outlier just in case the data is faulty"
   ]
  },
  {
   "cell_type": "code",
   "execution_count": 117,
   "metadata": {},
   "outputs": [],
   "source": [
    "df = df[setdiff(1:end, 22695), :];"
   ]
  },
  {
   "cell_type": "code",
   "execution_count": 118,
   "metadata": {},
   "outputs": [
    {
     "data": {
      "text/html": [
       "<table class=\"data-frame\"><thead><tr><th></th><th>last_review</th><th>reviews_per_month</th></tr><tr><th></th><th>String?</th><th>String?</th></tr></thead><tbody><p>3 rows × 2 columns</p><tr><th>1</th><td>01/01/1900</td><td>0</td></tr><tr><th>2</th><td>19/12/2019</td><td>0.21</td></tr><tr><th>3</th><td>01/01/1900</td><td>0</td></tr></tbody></table>"
      ],
      "text/latex": [
       "\\begin{tabular}{r|cc}\n",
       "\t& last\\_review & reviews\\_per\\_month\\\\\n",
       "\t\\hline\n",
       "\t& String? & String?\\\\\n",
       "\t\\hline\n",
       "\t1 & 01/01/1900 & 0 \\\\\n",
       "\t2 & 19/12/2019 & 0.21 \\\\\n",
       "\t3 & 01/01/1900 & 0 \\\\\n",
       "\\end{tabular}\n"
      ],
      "text/plain": [
       "3×2 DataFrame\n",
       "│ Row │ last_review │ reviews_per_month │\n",
       "│     │ \u001b[90mString?\u001b[39m     │ \u001b[90mString?\u001b[39m           │\n",
       "├─────┼─────────────┼───────────────────┤\n",
       "│ 1   │ 01/01/1900  │ 0                 │\n",
       "│ 2   │ 19/12/2019  │ 0.21              │\n",
       "│ 3   │ 01/01/1900  │ 0                 │"
      ]
     },
     "execution_count": 118,
     "metadata": {},
     "output_type": "execute_result"
    }
   ],
   "source": [
    "df[22694:22696, [:last_review,:reviews_per_month]]"
   ]
  },
  {
   "cell_type": "markdown",
   "metadata": {},
   "source": [
    "Now the column can be transformed to float"
   ]
  },
  {
   "cell_type": "code",
   "execution_count": 120,
   "metadata": {},
   "outputs": [
    {
     "ename": "LoadError",
     "evalue": "MethodError: no method matching parse(::Type{Float64}, ::Float64)\nClosest candidates are:\n  parse(::Type{T}, !Matched::AbstractString; kwargs...) where T<:Real at parse.jl:376",
     "output_type": "error",
     "traceback": [
      "MethodError: no method matching parse(::Type{Float64}, ::Float64)\nClosest candidates are:\n  parse(::Type{T}, !Matched::AbstractString; kwargs...) where T<:Real at parse.jl:376",
      "",
      "Stacktrace:",
      " [1] (::var\"#11#12\")(::Float64) at .\\none:0",
      " [2] iterate at .\\generator.jl:47 [inlined]",
      " [3] collect(::Base.Generator{Array{Float64,1},var\"#11#12\"}) at .\\array.jl:686",
      " [4] top-level scope at In[120]:1",
      " [5] include_string(::Function, ::Module, ::String, ::String) at .\\loading.jl:1091"
     ]
    }
   ],
   "source": [
    "df[:reviews_per_month] = [parse(Float64,x) for x in df[:reviews_per_month]] ;"
   ]
  },
  {
   "cell_type": "code",
   "execution_count": null,
   "metadata": {},
   "outputs": [],
   "source": []
  }
 ],
 "metadata": {
  "kernelspec": {
   "display_name": "Julia 1.5.1",
   "language": "julia",
   "name": "julia-1.5"
  },
  "language_info": {
   "file_extension": ".jl",
   "mimetype": "application/julia",
   "name": "julia",
   "version": "1.5.1"
  }
 },
 "nbformat": 4,
 "nbformat_minor": 4
}
