{
 "cells": [
  {
   "cell_type": "markdown",
   "metadata": {},
   "source": [
    "XGBoost Objective Function\\\n",
    "\n",
    "$$ \\mathcal{L}^{t} = \\sum _{i=1}^n \\ell(y_i,\\hat{y_i}^{(t-1)}+f_t(X_i))+\\Omega(f_t)$$\n",
    "\n",
    "SVR\n",
    "\\\n",
    "$$ \\frac{1}{2}\\vert\\vert w{\\vert\\vert}^2+C\\sum_{i=1}^{N}(\\xi+\\xi^*)$$\n",
    "\n",
    "Random Forest \\\n",
    "$$ \\hat{y} = \\frac{1}{K} \\sum_{k=1}^{K}(f_k(x_i)), \\, f_k \\in F$$"
   ]
  },
  {
   "cell_type": "markdown",
   "metadata": {},
   "source": [
    "Proxgrad functions"
   ]
  },
  {
   "cell_type": "markdown",
   "metadata": {},
   "source": [
    "The proximal operator $R^d \\rightarrow  R^d$ of the function r: $R^d \\rightarrow  R$ is defined as:"
   ]
  },
  {
   "cell_type": "markdown",
   "metadata": {},
   "source": [
    "$$\n",
    "\\text{prox}_r(z) = \\text{argmin}_w(r(w) + \\frac{1}{2}\\lvert\\rvert w-z \\lvert \\rvert_2^2)\n",
    "$$"
   ]
  },
  {
   "cell_type": "markdown",
   "metadata": {},
   "source": [
    "The problem that need to be solved is the minimization of:"
   ]
  },
  {
   "cell_type": "markdown",
   "metadata": {},
   "source": [
    "$$\n",
    "l\\text{(w)} + r\\text{(w)} \n",
    "$$"
   ]
  },
  {
   "cell_type": "markdown",
   "metadata": {},
   "source": [
    "Given a loss function and a regularizer r and stepsizes $\\alpha$, the following steps are done for maxiters:\n",
    "1. the subgradient ($g$) of the loss function is calculated\n",
    "2. w is updated:\n",
    "$$\n",
    "\\text{w} \\leftarrow \\text{prox}_{\\alpha r}(w - \\alpha g)\n",
    "$$\n"
   ]
  },
  {
   "cell_type": "code",
   "execution_count": null,
   "metadata": {},
   "outputs": [],
   "source": []
  }
 ],
 "metadata": {
  "kernelspec": {
   "display_name": "Python 3",
   "language": "python",
   "name": "python3"
  },
  "language_info": {
   "codemirror_mode": {
    "name": "ipython",
    "version": 3
   },
   "file_extension": ".py",
   "mimetype": "text/x-python",
   "name": "python",
   "nbconvert_exporter": "python",
   "pygments_lexer": "ipython3",
   "version": "3.8.3"
  }
 },
 "nbformat": 4,
 "nbformat_minor": 4
}
