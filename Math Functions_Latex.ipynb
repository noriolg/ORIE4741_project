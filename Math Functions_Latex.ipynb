{
 "cells": [
  {
   "cell_type": "markdown",
   "metadata": {},
   "source": [
    "XGBoost Objective Function\\\n",
    "\n",
    "$$ \\mathcal{L}^{t} = \\sum _{i=1}^n \\ell(y_i,\\hat{y_i}^{(t-1)}+f_t(X_i))+\\Omega(f_t)$$\n",
    "\n",
    "SVR\n",
    "\\\n",
    "$$ \\frac{1}{2}\\vert\\vert w{\\vert\\vert}^2+C\\sum_{i=1}^{N}(\\xi+\\xi^*)$$"
   ]
  }
 ],
 "metadata": {
  "kernelspec": {
   "display_name": "Python 3",
   "language": "python",
   "name": "python3"
  },
  "language_info": {
   "codemirror_mode": {
    "name": "ipython",
    "version": 3
   },
   "file_extension": ".py",
   "mimetype": "text/x-python",
   "name": "python",
   "nbconvert_exporter": "python",
   "pygments_lexer": "ipython3",
   "version": "3.7.8"
  }
 },
 "nbformat": 4,
 "nbformat_minor": 4
}
